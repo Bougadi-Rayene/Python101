{
  "nbformat": 4,
  "nbformat_minor": 0,
  "metadata": {
    "colab": {
      "provenance": []
    },
    "kernelspec": {
      "name": "python3",
      "display_name": "Python 3"
    },
    "language_info": {
      "name": "python"
    }
  },
  "cells": [
    {
      "cell_type": "markdown",
      "source": [
        "**Python 101**"
      ],
      "metadata": {
        "id": "I6MXgHKNKJ5i"
      }
    },
    {
      "cell_type": "code",
      "execution_count": null,
      "metadata": {
        "id": "0v6_7anBKEtu"
      },
      "outputs": [],
      "source": []
    },
    {
      "cell_type": "markdown",
      "source": [
        "# **Python 101**"
      ],
      "metadata": {
        "id": "Bj52U9GHdecs"
      }
    },
    {
      "cell_type": "markdown",
      "source": [
        "# **Math**"
      ],
      "metadata": {
        "id": "sjZQfAk0di85"
      }
    },
    {
      "cell_type": "code",
      "source": [
        "8/5"
      ],
      "metadata": {
        "colab": {
          "base_uri": "https://localhost:8080/"
        },
        "id": "Kmiu5pgadh6n",
        "outputId": "5bd6f3e7-8817-4dec-b5c0-adeb2344e6ac"
      },
      "execution_count": 1,
      "outputs": [
        {
          "output_type": "execute_result",
          "data": {
            "text/plain": [
              "1.6"
            ]
          },
          "metadata": {},
          "execution_count": 1
        }
      ]
    },
    {
      "cell_type": "code",
      "source": [
        "8//5"
      ],
      "metadata": {
        "colab": {
          "base_uri": "https://localhost:8080/"
        },
        "id": "Gl2Px2eWd5ft",
        "outputId": "ade23277-2df5-45a6-d7df-5fdcfecc2b28"
      },
      "execution_count": 2,
      "outputs": [
        {
          "output_type": "execute_result",
          "data": {
            "text/plain": [
              "1"
            ]
          },
          "metadata": {},
          "execution_count": 2
        }
      ]
    },
    {
      "cell_type": "markdown",
      "source": [
        "# **String**"
      ],
      "metadata": {
        "id": "PkCZU878gULx"
      }
    },
    {
      "cell_type": "code",
      "source": [
        "string = 'this is a string'\n",
        "string"
      ],
      "metadata": {
        "colab": {
          "base_uri": "https://localhost:8080/",
          "height": 36
        },
        "id": "TCFojbbpd_Vy",
        "outputId": "0a0922d1-2d30-4051-f417-da1b5eb2123b"
      },
      "execution_count": 3,
      "outputs": [
        {
          "output_type": "execute_result",
          "data": {
            "text/plain": [
              "'this is a string'"
            ],
            "application/vnd.google.colaboratory.intrinsic+json": {
              "type": "string"
            }
          },
          "metadata": {},
          "execution_count": 3
        }
      ]
    },
    {
      "cell_type": "code",
      "source": [
        "x = 7\n",
        "print(string , x)    # here we used a comma since they are two different types"
      ],
      "metadata": {
        "colab": {
          "base_uri": "https://localhost:8080/"
        },
        "id": "M75z5YwChSYw",
        "outputId": "6c047d18-ef48-4517-b804-45b9284cef57"
      },
      "execution_count": 4,
      "outputs": [
        {
          "output_type": "stream",
          "name": "stdout",
          "text": [
            "this is a string 7\n"
          ]
        }
      ]
    },
    {
      "cell_type": "code",
      "source": [
        "print(string + str(x))   #here we can add two strings since we changed the type of x to string with the method str\n"
      ],
      "metadata": {
        "colab": {
          "base_uri": "https://localhost:8080/"
        },
        "id": "CryQZ21shvBp",
        "outputId": "da318507-6a62-4694-b1c8-1d3e63ed14d9"
      },
      "execution_count": 6,
      "outputs": [
        {
          "output_type": "stream",
          "name": "stdout",
          "text": [
            "this is a string7\n"
          ]
        }
      ]
    },
    {
      "cell_type": "code",
      "source": [
        "quote1 = \" i'll be happy \"    # one way to include quotation and this goes for double quotation too\n",
        "quote1\n"
      ],
      "metadata": {
        "colab": {
          "base_uri": "https://localhost:8080/",
          "height": 36
        },
        "id": "tfCFGIaah59q",
        "outputId": "efaab914-65de-434e-ed46-8ec8031678bd"
      },
      "execution_count": 8,
      "outputs": [
        {
          "output_type": "execute_result",
          "data": {
            "text/plain": [
              "\" i'll be happy \""
            ],
            "application/vnd.google.colaboratory.intrinsic+json": {
              "type": "string"
            }
          },
          "metadata": {},
          "execution_count": 8
        }
      ]
    },
    {
      "cell_type": "code",
      "source": [
        "quote2 = ' i\\'ll be happy '      # second way to include quotation and this goes for double quotation too\n",
        "quote2"
      ],
      "metadata": {
        "colab": {
          "base_uri": "https://localhost:8080/",
          "height": 36
        },
        "id": "w-KbHw0qn8Vf",
        "outputId": "ad1f3bb1-174d-4f5f-8ef8-69d1ba7a1e86"
      },
      "execution_count": 9,
      "outputs": [
        {
          "output_type": "execute_result",
          "data": {
            "text/plain": [
              "\" i'll be happy \""
            ],
            "application/vnd.google.colaboratory.intrinsic+json": {
              "type": "string"
            }
          },
          "metadata": {},
          "execution_count": 9
        }
      ]
    },
    {
      "cell_type": "code",
      "source": [
        "big_string = \"\"\"\n",
        "               hello there you can write as many things as you want here\n",
        "             \"\"\"\n",
        "\n",
        "big_string"
      ],
      "metadata": {
        "colab": {
          "base_uri": "https://localhost:8080/",
          "height": 36
        },
        "id": "9j4g6OHKoEsT",
        "outputId": "2ae0b836-59b4-4d0c-e64d-33471b1d88bf"
      },
      "execution_count": 12,
      "outputs": [
        {
          "output_type": "execute_result",
          "data": {
            "text/plain": [
              "'\\n               hello there you can write as many things as you want here \\n             '"
            ],
            "application/vnd.google.colaboratory.intrinsic+json": {
              "type": "string"
            }
          },
          "metadata": {},
          "execution_count": 12
        }
      ]
    },
    {
      "cell_type": "code",
      "source": [
        "print('%s , %s , %s' %(\"hello world\" , quote1 , quote2))"
      ],
      "metadata": {
        "colab": {
          "base_uri": "https://localhost:8080/"
        },
        "id": "ooQWGLhCpJIv",
        "outputId": "6094f454-cef0-4333-b3e1-dbcd48996d14"
      },
      "execution_count": 13,
      "outputs": [
        {
          "output_type": "stream",
          "name": "stdout",
          "text": [
            "hello world ,  i'll be happy  ,  i'll be happy \n"
          ]
        }
      ]
    },
    {
      "cell_type": "code",
      "source": [
        "print('%s , %f , %i , %c' %(\"hello\" , 100 , 100 , 'R'))"
      ],
      "metadata": {
        "colab": {
          "base_uri": "https://localhost:8080/"
        },
        "id": "35G8OL6np6Ra",
        "outputId": "26727393-000a-42b5-8f23-b6ebf9575c96"
      },
      "execution_count": 31,
      "outputs": [
        {
          "output_type": "stream",
          "name": "stdout",
          "text": [
            "hello , 100.000000 , 100 , R\n"
          ]
        }
      ]
    },
    {
      "cell_type": "code",
      "source": [
        "print('you can remove \\n')\n",
        "print('new lines')"
      ],
      "metadata": {
        "colab": {
          "base_uri": "https://localhost:8080/"
        },
        "id": "FyL6T5WzqfkW",
        "outputId": "69f86986-7e9e-4ebf-cd12-d87b9b959961"
      },
      "execution_count": 16,
      "outputs": [
        {
          "output_type": "stream",
          "name": "stdout",
          "text": [
            "you can remove \n",
            "\n",
            "new lines\n"
          ]
        }
      ]
    },
    {
      "cell_type": "code",
      "source": [
        "print('\\n'*10)"
      ],
      "metadata": {
        "colab": {
          "base_uri": "https://localhost:8080/"
        },
        "id": "N_Rm673WrBqU",
        "outputId": "d9d59295-817b-4701-ddea-bb02ed7c3b09"
      },
      "execution_count": 19,
      "outputs": [
        {
          "output_type": "stream",
          "name": "stdout",
          "text": [
            "\n",
            "\n",
            "\n",
            "\n",
            "\n",
            "\n",
            "\n",
            "\n",
            "\n",
            "\n",
            "\n"
          ]
        }
      ]
    },
    {
      "cell_type": "code",
      "source": [
        "ray = print('rayene '*10)\n",
        "ray"
      ],
      "metadata": {
        "colab": {
          "base_uri": "https://localhost:8080/"
        },
        "id": "EqZtAexYt-g0",
        "outputId": "b7e89f8e-95c9-4c17-cbf2-618a6da3f7c6"
      },
      "execution_count": 22,
      "outputs": [
        {
          "output_type": "stream",
          "name": "stdout",
          "text": [
            "rayene rayene rayene rayene rayene rayene rayene rayene rayene rayene \n"
          ]
        }
      ]
    },
    {
      "cell_type": "code",
      "source": [
        "rayene = 'hello there i\\'m here to stay'\n",
        "rayene[0:4]"
      ],
      "metadata": {
        "colab": {
          "base_uri": "https://localhost:8080/",
          "height": 36
        },
        "id": "Iuy7t6tOuGDr",
        "outputId": "6cf2a9db-6baf-4b40-d21a-a573fea9b991"
      },
      "execution_count": 24,
      "outputs": [
        {
          "output_type": "execute_result",
          "data": {
            "text/plain": [
              "'hell'"
            ],
            "application/vnd.google.colaboratory.intrinsic+json": {
              "type": "string"
            }
          },
          "metadata": {},
          "execution_count": 24
        }
      ]
    },
    {
      "cell_type": "code",
      "source": [
        "'he' in rayene"
      ],
      "metadata": {
        "colab": {
          "base_uri": "https://localhost:8080/"
        },
        "id": "yXQAK3SaucAt",
        "outputId": "ba0edf41-8389-49b1-bd50-c1f469bfd7a0"
      },
      "execution_count": 25,
      "outputs": [
        {
          "output_type": "execute_result",
          "data": {
            "text/plain": [
              "True"
            ]
          },
          "metadata": {},
          "execution_count": 25
        }
      ]
    },
    {
      "cell_type": "code",
      "source": [
        "'him' in rayene"
      ],
      "metadata": {
        "colab": {
          "base_uri": "https://localhost:8080/"
        },
        "id": "CiBTaJrMuztX",
        "outputId": "33971cdd-2f84-403f-849b-b35661512e89"
      },
      "execution_count": 26,
      "outputs": [
        {
          "output_type": "execute_result",
          "data": {
            "text/plain": [
              "False"
            ]
          },
          "metadata": {},
          "execution_count": 26
        }
      ]
    },
    {
      "cell_type": "code",
      "source": [
        "rayene[:]"
      ],
      "metadata": {
        "colab": {
          "base_uri": "https://localhost:8080/",
          "height": 36
        },
        "id": "dKtN08s7u4Iq",
        "outputId": "69dcc155-0e24-4612-e2d7-6fe13b152424"
      },
      "execution_count": 27,
      "outputs": [
        {
          "output_type": "execute_result",
          "data": {
            "text/plain": [
              "\"hello there i'm here to stay\""
            ],
            "application/vnd.google.colaboratory.intrinsic+json": {
              "type": "string"
            }
          },
          "metadata": {},
          "execution_count": 27
        }
      ]
    },
    {
      "cell_type": "code",
      "source": [
        "rayene[:-1]"
      ],
      "metadata": {
        "colab": {
          "base_uri": "https://localhost:8080/",
          "height": 36
        },
        "id": "oMLRTsl4u_J1",
        "outputId": "1188bda5-38cf-448b-cf37-3c3dd9585bd1"
      },
      "execution_count": 28,
      "outputs": [
        {
          "output_type": "execute_result",
          "data": {
            "text/plain": [
              "\"hello there i'm here to sta\""
            ],
            "application/vnd.google.colaboratory.intrinsic+json": {
              "type": "string"
            }
          },
          "metadata": {},
          "execution_count": 28
        }
      ]
    },
    {
      "cell_type": "code",
      "source": [
        "rayene.capitalize()"
      ],
      "metadata": {
        "colab": {
          "base_uri": "https://localhost:8080/",
          "height": 36
        },
        "id": "gMukwP3HvLaz",
        "outputId": "95e14bbc-91c0-4cb7-d5f4-aa34b6701516"
      },
      "execution_count": 32,
      "outputs": [
        {
          "output_type": "execute_result",
          "data": {
            "text/plain": [
              "\"Hello there i'm here to stay\""
            ],
            "application/vnd.google.colaboratory.intrinsic+json": {
              "type": "string"
            }
          },
          "metadata": {},
          "execution_count": 32
        }
      ]
    },
    {
      "cell_type": "code",
      "source": [
        "rayene.upper()"
      ],
      "metadata": {
        "colab": {
          "base_uri": "https://localhost:8080/",
          "height": 36
        },
        "id": "3Gg2kfCUvoH3",
        "outputId": "ba7bc934-74b5-4b11-9aa4-6c70cca09ac6"
      },
      "execution_count": 33,
      "outputs": [
        {
          "output_type": "execute_result",
          "data": {
            "text/plain": [
              "\"HELLO THERE I'M HERE TO STAY\""
            ],
            "application/vnd.google.colaboratory.intrinsic+json": {
              "type": "string"
            }
          },
          "metadata": {},
          "execution_count": 33
        }
      ]
    },
    {
      "cell_type": "code",
      "source": [
        "rayene.lower()"
      ],
      "metadata": {
        "colab": {
          "base_uri": "https://localhost:8080/",
          "height": 36
        },
        "id": "a7RjrA_xvthH",
        "outputId": "9fa2fa71-b129-4a3a-c21a-cbed7fa57b43"
      },
      "execution_count": 34,
      "outputs": [
        {
          "output_type": "execute_result",
          "data": {
            "text/plain": [
              "\"hello there i'm here to stay\""
            ],
            "application/vnd.google.colaboratory.intrinsic+json": {
              "type": "string"
            }
          },
          "metadata": {},
          "execution_count": 34
        }
      ]
    },
    {
      "cell_type": "code",
      "source": [
        "rayene.find('hell')"
      ],
      "metadata": {
        "colab": {
          "base_uri": "https://localhost:8080/"
        },
        "id": "CFYyHmn3vvZ4",
        "outputId": "73ed1671-8bd9-4f36-9b3b-ca10e9c4b268"
      },
      "execution_count": 37,
      "outputs": [
        {
          "output_type": "execute_result",
          "data": {
            "text/plain": [
              "0"
            ]
          },
          "metadata": {},
          "execution_count": 37
        }
      ]
    },
    {
      "cell_type": "code",
      "source": [
        "len(rayene)"
      ],
      "metadata": {
        "colab": {
          "base_uri": "https://localhost:8080/"
        },
        "id": "ZbpbCefjv8aL",
        "outputId": "138af881-86b7-4774-af8c-fe4396181f31"
      },
      "execution_count": 38,
      "outputs": [
        {
          "output_type": "execute_result",
          "data": {
            "text/plain": [
              "28"
            ]
          },
          "metadata": {},
          "execution_count": 38
        }
      ]
    },
    {
      "cell_type": "code",
      "source": [
        "len('rayene')"
      ],
      "metadata": {
        "colab": {
          "base_uri": "https://localhost:8080/"
        },
        "id": "X5wGsv6SwRpp",
        "outputId": "53f1fedf-6c8e-4e0c-9ae6-ce34aba6bde5"
      },
      "execution_count": 39,
      "outputs": [
        {
          "output_type": "execute_result",
          "data": {
            "text/plain": [
              "6"
            ]
          },
          "metadata": {},
          "execution_count": 39
        }
      ]
    },
    {
      "cell_type": "code",
      "source": [
        "rayene.replace('there' , 'i\\'m rayene and')"
      ],
      "metadata": {
        "colab": {
          "base_uri": "https://localhost:8080/",
          "height": 36
        },
        "id": "s8nG4ogQwTrq",
        "outputId": "2884efc4-a41b-4442-cd8b-592be9af9b16"
      },
      "execution_count": 42,
      "outputs": [
        {
          "output_type": "execute_result",
          "data": {
            "text/plain": [
              "\"hello i'm rayene and i'm here to stay\""
            ],
            "application/vnd.google.colaboratory.intrinsic+json": {
              "type": "string"
            }
          },
          "metadata": {},
          "execution_count": 42
        }
      ]
    },
    {
      "cell_type": "markdown",
      "source": [
        "# **List**"
      ],
      "metadata": {
        "id": "wVV6lG4wxNQi"
      }
    },
    {
      "cell_type": "code",
      "source": [
        "names=['rayene' , 'rawnek' , 'lilich']\n",
        "names"
      ],
      "metadata": {
        "colab": {
          "base_uri": "https://localhost:8080/"
        },
        "id": "W-287A8Twe9v",
        "outputId": "58add2ff-a69e-4230-8f7b-48580012706f"
      },
      "execution_count": 11,
      "outputs": [
        {
          "output_type": "execute_result",
          "data": {
            "text/plain": [
              "['rayene', 'rawnek', 'lilich']"
            ]
          },
          "metadata": {},
          "execution_count": 11
        }
      ]
    },
    {
      "cell_type": "code",
      "source": [
        "names[0]"
      ],
      "metadata": {
        "colab": {
          "base_uri": "https://localhost:8080/",
          "height": 36
        },
        "id": "wynh6odqmPTz",
        "outputId": "9ce1fd96-8bbb-4860-856e-75f84eaffcde"
      },
      "execution_count": 4,
      "outputs": [
        {
          "output_type": "execute_result",
          "data": {
            "text/plain": [
              "'rayene'"
            ],
            "application/vnd.google.colaboratory.intrinsic+json": {
              "type": "string"
            }
          },
          "metadata": {},
          "execution_count": 4
        }
      ]
    },
    {
      "cell_type": "code",
      "source": [
        "names[1]"
      ],
      "metadata": {
        "colab": {
          "base_uri": "https://localhost:8080/",
          "height": 36
        },
        "id": "iAi2Ymt66rzp",
        "outputId": "6c3042d0-4e7b-44a4-9c8a-1fd3dad64764"
      },
      "execution_count": 5,
      "outputs": [
        {
          "output_type": "execute_result",
          "data": {
            "text/plain": [
              "'rawnek'"
            ],
            "application/vnd.google.colaboratory.intrinsic+json": {
              "type": "string"
            }
          },
          "metadata": {},
          "execution_count": 5
        }
      ]
    },
    {
      "cell_type": "code",
      "source": [
        "names[-1]"
      ],
      "metadata": {
        "colab": {
          "base_uri": "https://localhost:8080/",
          "height": 36
        },
        "id": "7LukHxpN6w2e",
        "outputId": "ba165e6d-f539-44b7-a273-d9f3a78a9733"
      },
      "execution_count": 6,
      "outputs": [
        {
          "output_type": "execute_result",
          "data": {
            "text/plain": [
              "'lilich'"
            ],
            "application/vnd.google.colaboratory.intrinsic+json": {
              "type": "string"
            }
          },
          "metadata": {},
          "execution_count": 6
        }
      ]
    },
    {
      "cell_type": "code",
      "source": [
        "names[0:1]"
      ],
      "metadata": {
        "colab": {
          "base_uri": "https://localhost:8080/"
        },
        "id": "w_GprQxq6ytb",
        "outputId": "5a7830c8-3a2a-4879-e780-2b51006a3f6e"
      },
      "execution_count": 7,
      "outputs": [
        {
          "output_type": "execute_result",
          "data": {
            "text/plain": [
              "['rayene']"
            ]
          },
          "metadata": {},
          "execution_count": 7
        }
      ]
    },
    {
      "cell_type": "code",
      "source": [
        "names[:]"
      ],
      "metadata": {
        "colab": {
          "base_uri": "https://localhost:8080/"
        },
        "id": "6BqJQAgQ62kJ",
        "outputId": "15c69005-407a-4bfa-ba4a-e826ae2f2a13"
      },
      "execution_count": 8,
      "outputs": [
        {
          "output_type": "execute_result",
          "data": {
            "text/plain": [
              "['rayene', 'rawnek', 'lilich']"
            ]
          },
          "metadata": {},
          "execution_count": 8
        }
      ]
    },
    {
      "cell_type": "code",
      "source": [
        "print(names[1:3])"
      ],
      "metadata": {
        "colab": {
          "base_uri": "https://localhost:8080/"
        },
        "id": "ALFaYwlx64mY",
        "outputId": "d636cb48-0467-4c67-edb2-1dad86100e07"
      },
      "execution_count": 11,
      "outputs": [
        {
          "output_type": "stream",
          "name": "stdout",
          "text": [
            "['rawnek', 'lilich']\n"
          ]
        }
      ]
    },
    {
      "cell_type": "markdown",
      "source": [
        "**append**\n",
        "\n",
        "from the end"
      ],
      "metadata": {
        "id": "zLf6mtKC_vb0"
      }
    },
    {
      "cell_type": "code",
      "source": [
        "names.append('malika')\n",
        "names"
      ],
      "metadata": {
        "colab": {
          "base_uri": "https://localhost:8080/"
        },
        "id": "R7qmF7TH9XwY",
        "outputId": "64058760-e979-40fa-b113-6a813cec2d11"
      },
      "execution_count": 12,
      "outputs": [
        {
          "output_type": "execute_result",
          "data": {
            "text/plain": [
              "['rayene', 'rawnek', 'lilich', 'malika']"
            ]
          },
          "metadata": {},
          "execution_count": 12
        }
      ]
    },
    {
      "cell_type": "code",
      "source": [
        "names.append(['maggi','midou'])     # append adds a list inside an existing list\n",
        "print(names)"
      ],
      "metadata": {
        "colab": {
          "base_uri": "https://localhost:8080/"
        },
        "id": "RiahwalTI8IW",
        "outputId": "043a4d5e-6670-4325-8993-cd54386d183a"
      },
      "execution_count": 13,
      "outputs": [
        {
          "output_type": "stream",
          "name": "stdout",
          "text": [
            "['rayene', 'rawnek', 'lilich', 'malika', ['maggi', 'midou']]\n"
          ]
        }
      ]
    },
    {
      "cell_type": "markdown",
      "source": [
        "**extend**"
      ],
      "metadata": {
        "id": "f5ZoCflwK_GT"
      }
    },
    {
      "cell_type": "code",
      "source": [
        "more_names=['mouh' ,'bilicha']\n",
        "names.extend(more_names)\n",
        "print(names)"
      ],
      "metadata": {
        "colab": {
          "base_uri": "https://localhost:8080/"
        },
        "id": "gcQLAxxJLEHI",
        "outputId": "1aafeb48-53d8-49d0-d61f-8b216f0cfb03"
      },
      "execution_count": 15,
      "outputs": [
        {
          "output_type": "stream",
          "name": "stdout",
          "text": [
            "['rayene', 'rawnek', 'hassina', 'lilich', 'malika', ['maggi', 'midou'], 'mouh', 'bilicha']\n"
          ]
        }
      ]
    },
    {
      "cell_type": "markdown",
      "source": [
        "**insert**\n",
        "\n",
        "\n",
        "in a specific position"
      ],
      "metadata": {
        "id": "hjmrxkxY7Pkz"
      }
    },
    {
      "cell_type": "code",
      "source": [
        "names.insert(2,'hassina')\n",
        "names"
      ],
      "metadata": {
        "colab": {
          "base_uri": "https://localhost:8080/"
        },
        "id": "cnYth83r7Owi",
        "outputId": "c9985258-2a17-4e75-8be5-a5a9a8d32d2b"
      },
      "execution_count": 14,
      "outputs": [
        {
          "output_type": "execute_result",
          "data": {
            "text/plain": [
              "['rayene', 'rawnek', 'hassina', 'lilich', 'malika', ['maggi', 'midou']]"
            ]
          },
          "metadata": {},
          "execution_count": 14
        }
      ]
    },
    {
      "cell_type": "markdown",
      "source": [
        "**count**"
      ],
      "metadata": {
        "id": "olXD-bEl_0Nb"
      }
    },
    {
      "cell_type": "code",
      "source": [
        "names.count('malika')"
      ],
      "metadata": {
        "colab": {
          "base_uri": "https://localhost:8080/"
        },
        "id": "EPYNFCJC_2PP",
        "outputId": "730a5124-224f-4cce-96e5-dad8e1b8f8ee"
      },
      "execution_count": 39,
      "outputs": [
        {
          "output_type": "execute_result",
          "data": {
            "text/plain": [
              "1"
            ]
          },
          "metadata": {},
          "execution_count": 39
        }
      ]
    },
    {
      "cell_type": "markdown",
      "source": [
        "**sort**"
      ],
      "metadata": {
        "id": "YCCSTSvE_-AN"
      }
    },
    {
      "cell_type": "code",
      "source": [
        "names.sort()\n",
        "names"
      ],
      "metadata": {
        "colab": {
          "base_uri": "https://localhost:8080/"
        },
        "id": "hgFvWUbRABPQ",
        "outputId": "7d5e3004-c9b0-4e06-aeae-3a17e046dc0d"
      },
      "execution_count": 41,
      "outputs": [
        {
          "output_type": "execute_result",
          "data": {
            "text/plain": [
              "['lilich', 'malika', 'rawnek', 'rayene']"
            ]
          },
          "metadata": {},
          "execution_count": 41
        }
      ]
    },
    {
      "cell_type": "markdown",
      "source": [
        "**remove**"
      ],
      "metadata": {
        "id": "tBVxXmovBUOF"
      }
    },
    {
      "cell_type": "code",
      "source": [
        "names.remove('hassina')\n",
        "names"
      ],
      "metadata": {
        "colab": {
          "base_uri": "https://localhost:8080/"
        },
        "id": "1jAGLZZzBIjh",
        "outputId": "abbf30b5-ceb4-4bb3-d855-5c5aed9b9135"
      },
      "execution_count": 54,
      "outputs": [
        {
          "output_type": "execute_result",
          "data": {
            "text/plain": [
              "['lilich', 'malika', 'hassina', 'rawnek', 'rayene']"
            ]
          },
          "metadata": {},
          "execution_count": 54
        }
      ]
    },
    {
      "cell_type": "markdown",
      "source": [
        "**pop**\n",
        "\n",
        "\n",
        "at a specific position"
      ],
      "metadata": {
        "id": "TunFNCkB71Kz"
      }
    },
    {
      "cell_type": "code",
      "source": [
        "ray = ['ray' , 'rayray' , 'rarar']\n",
        "popped_item = ray.pop(0)\n",
        "print(ray)\n",
        "print(popped_item)"
      ],
      "metadata": {
        "colab": {
          "base_uri": "https://localhost:8080/"
        },
        "id": "h4SQI_9v779A",
        "outputId": "b19a2f94-2f54-456a-fc8b-a99ceb066aa2"
      },
      "execution_count": 3,
      "outputs": [
        {
          "output_type": "stream",
          "name": "stdout",
          "text": [
            "['rayray', 'rarar']\n",
            "ray\n"
          ]
        }
      ]
    },
    {
      "cell_type": "code",
      "source": [
        "ray.pop()     #this will pop from the end\n",
        "print(ray)"
      ],
      "metadata": {
        "colab": {
          "base_uri": "https://localhost:8080/"
        },
        "id": "x3tEz7QEHudW",
        "outputId": "2a651179-08dc-493f-e1a6-f2142f69e367"
      },
      "execution_count": 10,
      "outputs": [
        {
          "output_type": "stream",
          "name": "stdout",
          "text": [
            "['rayray']\n"
          ]
        }
      ]
    },
    {
      "cell_type": "markdown",
      "source": [
        "**delete**"
      ],
      "metadata": {
        "id": "ChfBo4oOCPok"
      }
    },
    {
      "cell_type": "code",
      "source": [
        "del names[2]\n",
        "names"
      ],
      "metadata": {
        "colab": {
          "base_uri": "https://localhost:8080/"
        },
        "id": "2PXEcJOUCR1d",
        "outputId": "a17e5ae5-6d89-42a1-9037-e2f54cc72671"
      },
      "execution_count": 60,
      "outputs": [
        {
          "output_type": "execute_result",
          "data": {
            "text/plain": [
              "['rayene', 'rawnek', 'malika', 'lilich']"
            ]
          },
          "metadata": {},
          "execution_count": 60
        }
      ]
    },
    {
      "cell_type": "code",
      "source": [
        "hi=['hi' , 'hello' , 'hey' , 'hello there']\n",
        "del hi[1:2]\n",
        "print(hi)"
      ],
      "metadata": {
        "colab": {
          "base_uri": "https://localhost:8080/"
        },
        "id": "Hh-J3pBc8_It",
        "outputId": "49a97d7b-14de-4ddc-eba8-922fcc4da035"
      },
      "execution_count": 6,
      "outputs": [
        {
          "output_type": "stream",
          "name": "stdout",
          "text": [
            "['hi', 'hey', 'hello there']\n"
          ]
        }
      ]
    },
    {
      "cell_type": "code",
      "source": [
        "numbers = [1,2,3,4,5,6,7,8]\n",
        "del numbers[::2]     #delete from ...to ... with step=2\n",
        "print(numbers)"
      ],
      "metadata": {
        "colab": {
          "base_uri": "https://localhost:8080/"
        },
        "id": "3DNS_0a-91co",
        "outputId": "735e9c1a-5b7e-45df-9038-ea94debda864"
      },
      "execution_count": 9,
      "outputs": [
        {
          "output_type": "stream",
          "name": "stdout",
          "text": [
            "[2, 4, 6, 8]\n"
          ]
        }
      ]
    },
    {
      "cell_type": "markdown",
      "source": [
        "**clear**\n",
        "\n",
        "clears all the list"
      ],
      "metadata": {
        "id": "IkhefAw16xeq"
      }
    },
    {
      "cell_type": "code",
      "source": [
        "l = [2 , 3 , 4]\n",
        "l.clear()\n",
        "print(l)"
      ],
      "metadata": {
        "colab": {
          "base_uri": "https://localhost:8080/"
        },
        "id": "P5TGsp3960ci",
        "outputId": "314cfbff-8283-402b-a092-392b8295ff2d"
      },
      "execution_count": 1,
      "outputs": [
        {
          "output_type": "stream",
          "name": "stdout",
          "text": [
            "[]\n"
          ]
        }
      ]
    },
    {
      "cell_type": "markdown",
      "source": [
        "**reverse**"
      ],
      "metadata": {
        "id": "AzQMbYApB9dK"
      }
    },
    {
      "cell_type": "code",
      "source": [
        "names.reverse()\n",
        "names"
      ],
      "metadata": {
        "colab": {
          "base_uri": "https://localhost:8080/"
        },
        "id": "gKLEiRoNB_uu",
        "outputId": "8eb4370f-c7b9-4452-f9e1-6d33decf9fc6"
      },
      "execution_count": 61,
      "outputs": [
        {
          "output_type": "execute_result",
          "data": {
            "text/plain": [
              "['lilich', 'malika', 'rawnek', 'rayene']"
            ]
          },
          "metadata": {},
          "execution_count": 61
        }
      ]
    },
    {
      "cell_type": "markdown",
      "source": [
        "**length**"
      ],
      "metadata": {
        "id": "TRMip0tYC9T3"
      }
    },
    {
      "cell_type": "code",
      "source": [
        "len(names)"
      ],
      "metadata": {
        "colab": {
          "base_uri": "https://localhost:8080/"
        },
        "id": "u07tjJ4vDAIv",
        "outputId": "3256d97e-7448-4f57-d21d-359e658c0a68"
      },
      "execution_count": 62,
      "outputs": [
        {
          "output_type": "execute_result",
          "data": {
            "text/plain": [
              "4"
            ]
          },
          "metadata": {},
          "execution_count": 62
        }
      ]
    },
    {
      "cell_type": "markdown",
      "source": [
        "**max and min**"
      ],
      "metadata": {
        "id": "z2CAp478DP9T"
      }
    },
    {
      "cell_type": "code",
      "source": [
        "max(names)"
      ],
      "metadata": {
        "colab": {
          "base_uri": "https://localhost:8080/",
          "height": 36
        },
        "id": "pQnn6PSHDTQT",
        "outputId": "bacdec37-4b93-42a5-be16-a2bc55503980"
      },
      "execution_count": 63,
      "outputs": [
        {
          "output_type": "execute_result",
          "data": {
            "text/plain": [
              "'rayene'"
            ],
            "application/vnd.google.colaboratory.intrinsic+json": {
              "type": "string"
            }
          },
          "metadata": {},
          "execution_count": 63
        }
      ]
    },
    {
      "cell_type": "code",
      "source": [
        "min(names)"
      ],
      "metadata": {
        "colab": {
          "base_uri": "https://localhost:8080/",
          "height": 36
        },
        "id": "6z60Icj2DWyM",
        "outputId": "dd8a5678-516f-44a7-98f2-b542766ddc91"
      },
      "execution_count": 64,
      "outputs": [
        {
          "output_type": "execute_result",
          "data": {
            "text/plain": [
              "'lilich'"
            ],
            "application/vnd.google.colaboratory.intrinsic+json": {
              "type": "string"
            }
          },
          "metadata": {},
          "execution_count": 64
        }
      ]
    },
    {
      "cell_type": "markdown",
      "source": [
        "**math on lists**"
      ],
      "metadata": {
        "id": "telUPYstDxUH"
      }
    },
    {
      "cell_type": "code",
      "source": [
        "[1,2,3]*2"
      ],
      "metadata": {
        "colab": {
          "base_uri": "https://localhost:8080/"
        },
        "id": "vPQeKeEYDbJE",
        "outputId": "17e7a3be-cde6-492d-e73b-e7d3afde7eba"
      },
      "execution_count": 65,
      "outputs": [
        {
          "output_type": "execute_result",
          "data": {
            "text/plain": [
              "[1, 2, 3, 1, 2, 3]"
            ]
          },
          "metadata": {},
          "execution_count": 65
        }
      ]
    },
    {
      "cell_type": "code",
      "source": [
        "[1,2,3]+[4,5]"
      ],
      "metadata": {
        "colab": {
          "base_uri": "https://localhost:8080/"
        },
        "id": "k0YaFnmhD5vc",
        "outputId": "5cc41ebd-791d-4092-d3dd-6b3fb0a3aa9c"
      },
      "execution_count": 68,
      "outputs": [
        {
          "output_type": "execute_result",
          "data": {
            "text/plain": [
              "[1, 2, 3, 4, 5]"
            ]
          },
          "metadata": {},
          "execution_count": 68
        }
      ]
    },
    {
      "cell_type": "markdown",
      "source": [
        "**list of lists**"
      ],
      "metadata": {
        "id": "apkBaRZWET-Q"
      }
    },
    {
      "cell_type": "code",
      "source": [
        "fuclties = ['it' , 'rc' , 'bp' , 'FF']\n",
        "fuclties"
      ],
      "metadata": {
        "colab": {
          "base_uri": "https://localhost:8080/"
        },
        "id": "shz6TiT57CrR",
        "outputId": "153d165b-99a7-4cfe-94ef-6df2d4e45b32"
      },
      "execution_count": 12,
      "outputs": [
        {
          "output_type": "execute_result",
          "data": {
            "text/plain": [
              "['it', 'rc', 'bp', 'FF']"
            ]
          },
          "metadata": {},
          "execution_count": 12
        }
      ]
    },
    {
      "cell_type": "code",
      "source": [
        "data = [names , fuclties]\n",
        "data"
      ],
      "metadata": {
        "colab": {
          "base_uri": "https://localhost:8080/"
        },
        "id": "ylH6dmW67iF-",
        "outputId": "a76e03fe-b571-45dc-bca1-23eb8a71ea08"
      },
      "execution_count": 14,
      "outputs": [
        {
          "output_type": "execute_result",
          "data": {
            "text/plain": [
              "[['rayene', 'rawnek', 'lilich'], ['it', 'rc', 'bp', 'FF']]"
            ]
          },
          "metadata": {},
          "execution_count": 14
        }
      ]
    },
    {
      "cell_type": "code",
      "source": [
        "data.count('rayene')"
      ],
      "metadata": {
        "colab": {
          "base_uri": "https://localhost:8080/"
        },
        "id": "S2xVjhbEAJtr",
        "outputId": "8793312c-a1de-4e86-c52c-9dfe7c2b0e27"
      },
      "execution_count": 47,
      "outputs": [
        {
          "output_type": "execute_result",
          "data": {
            "text/plain": [
              "0"
            ]
          },
          "metadata": {},
          "execution_count": 47
        }
      ]
    },
    {
      "cell_type": "code",
      "source": [
        "data[0]"
      ],
      "metadata": {
        "colab": {
          "base_uri": "https://localhost:8080/"
        },
        "id": "enUpgEfX7mzp",
        "outputId": "a848ced0-857e-493b-ea22-296727e148fc"
      },
      "execution_count": 48,
      "outputs": [
        {
          "output_type": "execute_result",
          "data": {
            "text/plain": [
              "['lilich', 'malika', 'rawnek', 'rayene']"
            ]
          },
          "metadata": {},
          "execution_count": 48
        }
      ]
    },
    {
      "cell_type": "code",
      "source": [
        "data[0][0]"
      ],
      "metadata": {
        "colab": {
          "base_uri": "https://localhost:8080/",
          "height": 36
        },
        "id": "4gQlp4XP8HCB",
        "outputId": "062e8a8e-5d72-4207-a798-d205847e4ef6"
      },
      "execution_count": 16,
      "outputs": [
        {
          "output_type": "execute_result",
          "data": {
            "text/plain": [
              "'rayene'"
            ],
            "application/vnd.google.colaboratory.intrinsic+json": {
              "type": "string"
            }
          },
          "metadata": {},
          "execution_count": 16
        }
      ]
    },
    {
      "cell_type": "code",
      "source": [
        "data[1]"
      ],
      "metadata": {
        "colab": {
          "base_uri": "https://localhost:8080/"
        },
        "id": "f5XqwQHb8LKn",
        "outputId": "45623ced-fb14-4c56-8c15-eedf0692dd04"
      },
      "execution_count": 17,
      "outputs": [
        {
          "output_type": "execute_result",
          "data": {
            "text/plain": [
              "['it', 'rc', 'bp', 'FF']"
            ]
          },
          "metadata": {},
          "execution_count": 17
        }
      ]
    },
    {
      "cell_type": "code",
      "source": [
        "data[1][1]"
      ],
      "metadata": {
        "colab": {
          "base_uri": "https://localhost:8080/",
          "height": 36
        },
        "id": "uj7Z-HCk8NDV",
        "outputId": "79bd1c19-78d3-46de-e040-e43c0ece9c62"
      },
      "execution_count": 18,
      "outputs": [
        {
          "output_type": "execute_result",
          "data": {
            "text/plain": [
              "'rc'"
            ],
            "application/vnd.google.colaboratory.intrinsic+json": {
              "type": "string"
            }
          },
          "metadata": {},
          "execution_count": 18
        }
      ]
    },
    {
      "cell_type": "code",
      "source": [
        "test = [['rayene' , 'malika', 'ray'],[2,3,4]]\n",
        "test"
      ],
      "metadata": {
        "colab": {
          "base_uri": "https://localhost:8080/"
        },
        "id": "Wbbi6cmH8Qq6",
        "outputId": "e2dd1ed4-8d17-422e-f1e1-bcef789539a4"
      },
      "execution_count": 30,
      "outputs": [
        {
          "output_type": "execute_result",
          "data": {
            "text/plain": [
              "[['rayene', 'malika', 'ray'], [2, 3, 4]]"
            ]
          },
          "metadata": {},
          "execution_count": 30
        }
      ]
    },
    {
      "cell_type": "code",
      "source": [
        "test[1][2]"
      ],
      "metadata": {
        "colab": {
          "base_uri": "https://localhost:8080/"
        },
        "id": "-xRdGAtg8lik",
        "outputId": "a4373ad1-4b78-4a0e-9b0a-7ad0716ac4fa"
      },
      "execution_count": 22,
      "outputs": [
        {
          "output_type": "execute_result",
          "data": {
            "text/plain": [
              "4"
            ]
          },
          "metadata": {},
          "execution_count": 22
        }
      ]
    },
    {
      "cell_type": "code",
      "source": [
        "test[0]"
      ],
      "metadata": {
        "colab": {
          "base_uri": "https://localhost:8080/"
        },
        "id": "DZUAbFgF8rWw",
        "outputId": "9f8dd52b-6142-4c9b-c3f9-3b6476b48792"
      },
      "execution_count": 23,
      "outputs": [
        {
          "output_type": "execute_result",
          "data": {
            "text/plain": [
              "['rayene', 'malika', 'ray']"
            ]
          },
          "metadata": {},
          "execution_count": 23
        }
      ]
    },
    {
      "cell_type": "code",
      "source": [
        "tess=[0 , 'ray']\n",
        "tess"
      ],
      "metadata": {
        "colab": {
          "base_uri": "https://localhost:8080/"
        },
        "id": "zyMc9QSn8xWa",
        "outputId": "36d0b569-4ba6-4a44-ec9b-dd979b36db2e"
      },
      "execution_count": 25,
      "outputs": [
        {
          "output_type": "execute_result",
          "data": {
            "text/plain": [
              "[0, 'ray']"
            ]
          },
          "metadata": {},
          "execution_count": 25
        }
      ]
    },
    {
      "cell_type": "code",
      "source": [
        "tea=[[1.3 , 'ray'],[1,2,'tt']]\n",
        "tea"
      ],
      "metadata": {
        "colab": {
          "base_uri": "https://localhost:8080/"
        },
        "id": "ErXcU-B784G7",
        "outputId": "27dcc5df-e6ed-4df8-92d1-a3db1a66c3f8"
      },
      "execution_count": 27,
      "outputs": [
        {
          "output_type": "execute_result",
          "data": {
            "text/plain": [
              "[[1.3, 'ray'], [1, 2, 'tt']]"
            ]
          },
          "metadata": {},
          "execution_count": 27
        }
      ]
    },
    {
      "cell_type": "markdown",
      "source": [
        "# **Tuple**\n",
        "\n",
        "Un tuple ne peut pas être modifié après l'assignation car c'est un objet immuable.En revanche, les listes sont modifiables car elles sont mutables."
      ],
      "metadata": {
        "id": "puswbxeYEf-8"
      }
    },
    {
      "cell_type": "code",
      "source": [
        "tuple=()\n",
        "print(tuple)"
      ],
      "metadata": {
        "colab": {
          "base_uri": "https://localhost:8080/"
        },
        "id": "aqgtp8jJ9Eqx",
        "outputId": "3d982de4-f09d-4896-d706-3443a2347a00"
      },
      "execution_count": 30,
      "outputs": [
        {
          "output_type": "stream",
          "name": "stdout",
          "text": [
            "()\n"
          ]
        }
      ]
    },
    {
      "cell_type": "code",
      "source": [
        "t = ('spam', 'eggs', 9, ['one', 'two', 'three'],(1, 2, 3),True)\n",
        "print(t)"
      ],
      "metadata": {
        "colab": {
          "base_uri": "https://localhost:8080/"
        },
        "id": "onVTOntVWvjw",
        "outputId": "97b017b6-71f0-4b81-ee2a-ae3ae83da823"
      },
      "execution_count": 53,
      "outputs": [
        {
          "output_type": "stream",
          "name": "stdout",
          "text": [
            "('spam', 'eggs', 9, ['one', 'two', 'three'], (1, 2, 3), True)\n"
          ]
        }
      ]
    },
    {
      "cell_type": "code",
      "source": [
        "t[4]"
      ],
      "metadata": {
        "colab": {
          "base_uri": "https://localhost:8080/"
        },
        "id": "9ID56AYGW2ee",
        "outputId": "6ae67193-a459-4709-c799-3c70dcd0857d"
      },
      "execution_count": 56,
      "outputs": [
        {
          "output_type": "execute_result",
          "data": {
            "text/plain": [
              "(1, 2, 3)"
            ]
          },
          "metadata": {},
          "execution_count": 56
        }
      ]
    },
    {
      "cell_type": "code",
      "source": [
        "mon_tuple = (1,)           #La virgule est nécessaire pour différencier un tuple d'une simple expression entourée de parenthèses\n",
        "mon_tuple"
      ],
      "metadata": {
        "colab": {
          "base_uri": "https://localhost:8080/"
        },
        "id": "dBvx_CtZW-5O",
        "outputId": "fa6d8bac-fd5e-48f7-abbb-8eba4703eba1"
      },
      "execution_count": 58,
      "outputs": [
        {
          "output_type": "execute_result",
          "data": {
            "text/plain": [
              "(1,)"
            ]
          },
          "metadata": {},
          "execution_count": 58
        }
      ]
    },
    {
      "cell_type": "code",
      "source": [
        "my_tuple = 1,\n",
        "my_tuple"
      ],
      "metadata": {
        "colab": {
          "base_uri": "https://localhost:8080/"
        },
        "id": "Jhlj-nnJXPnP",
        "outputId": "4f438eb9-7611-4ab8-86b4-5cb7dc580ad6"
      },
      "execution_count": 60,
      "outputs": [
        {
          "output_type": "execute_result",
          "data": {
            "text/plain": [
              "(1,)"
            ]
          },
          "metadata": {},
          "execution_count": 60
        }
      ]
    },
    {
      "cell_type": "code",
      "source": [
        "mon_tuple = ()\n",
        "mon_tuple += (128,)\n",
        "print(mon_tuple)"
      ],
      "metadata": {
        "colab": {
          "base_uri": "https://localhost:8080/"
        },
        "id": "EPmbyv4aX3v9",
        "outputId": "fb5d522c-b84b-4465-952c-7983a35ad077"
      },
      "execution_count": 61,
      "outputs": [
        {
          "output_type": "stream",
          "name": "stdout",
          "text": [
            "(128,)\n"
          ]
        }
      ]
    },
    {
      "cell_type": "code",
      "source": [
        "tuple = (1,2,3,4,5)\n",
        "print(tuple)"
      ],
      "metadata": {
        "colab": {
          "base_uri": "https://localhost:8080/"
        },
        "id": "gfI-ktNRMvIS",
        "outputId": "83ed28b0-57bc-4494-edde-e9e696cd1e11"
      },
      "execution_count": 31,
      "outputs": [
        {
          "output_type": "stream",
          "name": "stdout",
          "text": [
            "(1, 2, 3, 4, 5)\n"
          ]
        }
      ]
    },
    {
      "cell_type": "code",
      "source": [
        "tuple[0]"
      ],
      "metadata": {
        "colab": {
          "base_uri": "https://localhost:8080/"
        },
        "id": "rVIwsXAdMyi7",
        "outputId": "06a6da90-e2fd-4c77-f7e5-b17b84169fe3"
      },
      "execution_count": 32,
      "outputs": [
        {
          "output_type": "execute_result",
          "data": {
            "text/plain": [
              "1"
            ]
          },
          "metadata": {},
          "execution_count": 32
        }
      ]
    },
    {
      "cell_type": "code",
      "source": [
        "tuple[0:2]"
      ],
      "metadata": {
        "colab": {
          "base_uri": "https://localhost:8080/"
        },
        "id": "oFtF_jW3M6OD",
        "outputId": "dab6e1dd-4876-4876-a793-d8f91c82a9b9"
      },
      "execution_count": 33,
      "outputs": [
        {
          "output_type": "execute_result",
          "data": {
            "text/plain": [
              "(1, 2)"
            ]
          },
          "metadata": {},
          "execution_count": 33
        }
      ]
    },
    {
      "cell_type": "code",
      "source": [
        "tuple[0]=12   #we can't modify the value of the item number 0"
      ],
      "metadata": {
        "colab": {
          "base_uri": "https://localhost:8080/",
          "height": 165
        },
        "id": "FS045zAmOhVs",
        "outputId": "1bb0238a-3b68-4b1b-884c-e3759a7bbb36"
      },
      "execution_count": 34,
      "outputs": [
        {
          "output_type": "error",
          "ename": "TypeError",
          "evalue": "ignored",
          "traceback": [
            "\u001b[0;31m---------------------------------------------------------------------------\u001b[0m",
            "\u001b[0;31mTypeError\u001b[0m                                 Traceback (most recent call last)",
            "\u001b[0;32m<ipython-input-34-db3e8c365e66>\u001b[0m in \u001b[0;36m<cell line: 1>\u001b[0;34m()\u001b[0m\n\u001b[0;32m----> 1\u001b[0;31m \u001b[0mtuple\u001b[0m\u001b[0;34m[\u001b[0m\u001b[0;36m0\u001b[0m\u001b[0;34m]\u001b[0m\u001b[0;34m=\u001b[0m\u001b[0;36m12\u001b[0m\u001b[0;34m\u001b[0m\u001b[0;34m\u001b[0m\u001b[0m\n\u001b[0m",
            "\u001b[0;31mTypeError\u001b[0m: 'tuple' object does not support item assignment"
          ]
        }
      ]
    },
    {
      "cell_type": "code",
      "source": [
        "tuple=list(tuple)\n",
        "print(tuple)"
      ],
      "metadata": {
        "colab": {
          "base_uri": "https://localhost:8080/"
        },
        "id": "-X-pEZSuNZL3",
        "outputId": "d8790908-2f6e-40f7-c041-7998f5eee359"
      },
      "execution_count": 35,
      "outputs": [
        {
          "output_type": "stream",
          "name": "stdout",
          "text": [
            "[1, 2, 3, 4, 5]\n"
          ]
        }
      ]
    },
    {
      "cell_type": "code",
      "source": [
        "tuple[0]=12                  #here since it's a list we can change values\n",
        "tuple"
      ],
      "metadata": {
        "colab": {
          "base_uri": "https://localhost:8080/"
        },
        "id": "ZT52qhC9OJXK",
        "outputId": "6edc3d47-e39e-427c-ac75-ef8cb3fc2d1d"
      },
      "execution_count": 37,
      "outputs": [
        {
          "output_type": "execute_result",
          "data": {
            "text/plain": [
              "[12, 2, 3, 4, 5]"
            ]
          },
          "metadata": {},
          "execution_count": 37
        }
      ]
    },
    {
      "cell_type": "code",
      "source": [
        "t = ('spam', 'eggs', 'knights')\n",
        "v1, v2 , v3 = t          #unpacking a tuple\n",
        "print(v1 , v2 , v3)"
      ],
      "metadata": {
        "colab": {
          "base_uri": "https://localhost:8080/"
        },
        "id": "pavcQ-w_a5z7",
        "outputId": "da10fb13-bbdd-407f-c305-60016c14f051"
      },
      "execution_count": 63,
      "outputs": [
        {
          "output_type": "stream",
          "name": "stdout",
          "text": [
            "spam eggs knights\n"
          ]
        }
      ]
    },
    {
      "cell_type": "code",
      "source": [
        "print(t.index('eggs'))"
      ],
      "metadata": {
        "colab": {
          "base_uri": "https://localhost:8080/"
        },
        "id": "W4yQnhw1bXYn",
        "outputId": "a2423806-de8e-4604-8147-2edd6d80bd5f"
      },
      "execution_count": 64,
      "outputs": [
        {
          "output_type": "stream",
          "name": "stdout",
          "text": [
            "1\n"
          ]
        }
      ]
    },
    {
      "cell_type": "markdown",
      "source": [
        "# **Dictionary**"
      ],
      "metadata": {
        "id": "y7jjO7vxRS17"
      }
    },
    {
      "cell_type": "code",
      "source": [
        "# dict = {'key' : 'value'}\n",
        "\"\"\"\n",
        "Une clé doit être unique, les doublons ne sont pas autorisés.\n",
        "Si cela arrive, cela ne va pas créer d'erreur mais votre seconde clé écrasera la première.\n",
        "\"\"\"\n",
        "fac_names={ 'rawnek':'medecine',\n",
        "            'hassna' : 'anglais',\n",
        "            'midou' : 'français',\n",
        "            'maggi':'architecture'}\n",
        "\n",
        "print(fac_names)"
      ],
      "metadata": {
        "colab": {
          "base_uri": "https://localhost:8080/"
        },
        "id": "ckkTTeN7Ofi3",
        "outputId": "11ec63bc-5011-49cd-9ef5-694d7141848e"
      },
      "execution_count": 42,
      "outputs": [
        {
          "output_type": "stream",
          "name": "stdout",
          "text": [
            "{'rawnek': 'medecine', 'hassna': 'anglais', 'midou': 'français', 'maggi': 'architecture'}\n"
          ]
        }
      ]
    },
    {
      "cell_type": "code",
      "source": [
        "t = dict()\n",
        "t"
      ],
      "metadata": {
        "colab": {
          "base_uri": "https://localhost:8080/"
        },
        "id": "L8ueneotcsKq",
        "outputId": "2d4afc1e-3294-4f7a-e099-cb053707a0e6"
      },
      "execution_count": 66,
      "outputs": [
        {
          "output_type": "execute_result",
          "data": {
            "text/plain": [
              "{}"
            ]
          },
          "metadata": {},
          "execution_count": 66
        }
      ]
    },
    {
      "cell_type": "code",
      "source": [
        "#Les valeurs peuvent être de n'importe quel type alors que les clés doivent obligatoirement être de type immuable !\n",
        "#Vous pouvez ainsi utiliser un float ou un tuple comme clé sans problème\n",
        "\n",
        "d = dict( {1 : 'one',\n",
        "        'deux': 2 ,\n",
        "        (3, 4, 5): 'pas_de_soucis',\n",
        "        9.9: 'nine_point_nine'})\n",
        "\n",
        "print(d)"
      ],
      "metadata": {
        "colab": {
          "base_uri": "https://localhost:8080/"
        },
        "id": "yBRX_-5ZczDl",
        "outputId": "0f6534e4-a95a-4039-9ec3-2fde1ecc0a9b"
      },
      "execution_count": 71,
      "outputs": [
        {
          "output_type": "stream",
          "name": "stdout",
          "text": [
            "{1: 'one', 'deux': 2, (3, 4, 5): 'pas_de_soucis', 9.9: 'nine_point_nine'}\n"
          ]
        }
      ]
    },
    {
      "cell_type": "code",
      "source": [
        "d.clear()\n",
        "d"
      ],
      "metadata": {
        "colab": {
          "base_uri": "https://localhost:8080/"
        },
        "id": "iyjw5EsiiLK6",
        "outputId": "7dcc081a-cb12-4aad-d2ef-42fb6e112990"
      },
      "execution_count": 75,
      "outputs": [
        {
          "output_type": "execute_result",
          "data": {
            "text/plain": [
              "{}"
            ]
          },
          "metadata": {},
          "execution_count": 75
        }
      ]
    },
    {
      "cell_type": "code",
      "source": [
        "del d # supprimer entièrement le dictionnaire\n",
        "print(d)"
      ],
      "metadata": {
        "colab": {
          "base_uri": "https://localhost:8080/",
          "height": 182
        },
        "id": "nPjLLEz_iX7G",
        "outputId": "d6b1e756-3b58-4923-bf25-fab7f8382e98"
      },
      "execution_count": 76,
      "outputs": [
        {
          "output_type": "error",
          "ename": "NameError",
          "evalue": "ignored",
          "traceback": [
            "\u001b[0;31m---------------------------------------------------------------------------\u001b[0m",
            "\u001b[0;31mNameError\u001b[0m                                 Traceback (most recent call last)",
            "\u001b[0;32m<ipython-input-76-d0cd589ce86b>\u001b[0m in \u001b[0;36m<cell line: 2>\u001b[0;34m()\u001b[0m\n\u001b[1;32m      1\u001b[0m \u001b[0;32mdel\u001b[0m \u001b[0md\u001b[0m\u001b[0;34m\u001b[0m\u001b[0;34m\u001b[0m\u001b[0m\n\u001b[0;32m----> 2\u001b[0;31m \u001b[0mprint\u001b[0m\u001b[0;34m(\u001b[0m\u001b[0md\u001b[0m\u001b[0;34m)\u001b[0m\u001b[0;34m\u001b[0m\u001b[0;34m\u001b[0m\u001b[0m\n\u001b[0m",
            "\u001b[0;31mNameError\u001b[0m: name 'd' is not defined"
          ]
        }
      ]
    },
    {
      "cell_type": "code",
      "source": [
        "fac_names['rawnek']"
      ],
      "metadata": {
        "colab": {
          "base_uri": "https://localhost:8080/",
          "height": 36
        },
        "id": "vFEEitesSUbH",
        "outputId": "778a7032-9957-45f5-c5e7-d5bcc395a2ca"
      },
      "execution_count": 43,
      "outputs": [
        {
          "output_type": "execute_result",
          "data": {
            "text/plain": [
              "'medecine'"
            ],
            "application/vnd.google.colaboratory.intrinsic+json": {
              "type": "string"
            }
          },
          "metadata": {},
          "execution_count": 43
        }
      ]
    },
    {
      "cell_type": "code",
      "source": [
        "fac_names['medecine']    # we can't call the value to get the key!!"
      ],
      "metadata": {
        "colab": {
          "base_uri": "https://localhost:8080/",
          "height": 165
        },
        "id": "ZdyjT5q8SqbE",
        "outputId": "529e1207-ad80-479f-8d26-f1a52cf64cdc"
      },
      "execution_count": 44,
      "outputs": [
        {
          "output_type": "error",
          "ename": "KeyError",
          "evalue": "ignored",
          "traceback": [
            "\u001b[0;31m---------------------------------------------------------------------------\u001b[0m",
            "\u001b[0;31mKeyError\u001b[0m                                  Traceback (most recent call last)",
            "\u001b[0;32m<ipython-input-44-edbf300c83e6>\u001b[0m in \u001b[0;36m<cell line: 1>\u001b[0;34m()\u001b[0m\n\u001b[0;32m----> 1\u001b[0;31m \u001b[0mfac_names\u001b[0m\u001b[0;34m[\u001b[0m\u001b[0;34m'medecine'\u001b[0m\u001b[0;34m]\u001b[0m\u001b[0;34m\u001b[0m\u001b[0;34m\u001b[0m\u001b[0m\n\u001b[0m",
            "\u001b[0;31mKeyError\u001b[0m: 'medecine'"
          ]
        }
      ]
    },
    {
      "cell_type": "code",
      "source": [
        "len(fac_names)"
      ],
      "metadata": {
        "colab": {
          "base_uri": "https://localhost:8080/"
        },
        "id": "3tXnFciOS4Sr",
        "outputId": "030b4414-f6e0-4658-bc92-aa1fb32315a3"
      },
      "execution_count": 45,
      "outputs": [
        {
          "output_type": "execute_result",
          "data": {
            "text/plain": [
              "4"
            ]
          },
          "metadata": {},
          "execution_count": 45
        }
      ]
    },
    {
      "cell_type": "code",
      "source": [
        "fac_names['rawnek'] = 'med'    #changement de valeur déja existante\n",
        "fac_names"
      ],
      "metadata": {
        "colab": {
          "base_uri": "https://localhost:8080/"
        },
        "id": "d-zJGf1oULee",
        "outputId": "85a9a9f0-ce39-4ec8-d14a-8ad9a10e68e6"
      },
      "execution_count": 48,
      "outputs": [
        {
          "output_type": "execute_result",
          "data": {
            "text/plain": [
              "{'rawnek': 'med',\n",
              " 'hassna': 'anglais',\n",
              " 'midou': 'français',\n",
              " 'maggi': 'architecture'}"
            ]
          },
          "metadata": {},
          "execution_count": 48
        }
      ]
    },
    {
      "cell_type": "code",
      "source": [
        "fac_names['rayene'] = 'info'     #Création d'une nouvelle paire clé/valeur\n",
        "fac_names"
      ],
      "metadata": {
        "colab": {
          "base_uri": "https://localhost:8080/"
        },
        "id": "srmdtd85g3Wi",
        "outputId": "c9805715-cc7f-40ff-ed9d-3e5ba3f61d14"
      },
      "execution_count": 72,
      "outputs": [
        {
          "output_type": "execute_result",
          "data": {
            "text/plain": [
              "{'rawnek': 'med',\n",
              " 'hassna': 'anglais',\n",
              " 'maggi': 'architecture',\n",
              " 'rayene': 'info'}"
            ]
          },
          "metadata": {},
          "execution_count": 72
        }
      ]
    },
    {
      "cell_type": "code",
      "source": [
        "del fac_names['midou']\n",
        "fac_names"
      ],
      "metadata": {
        "colab": {
          "base_uri": "https://localhost:8080/"
        },
        "id": "v0MuWX5JVJ_i",
        "outputId": "bbed4f6e-33df-4c67-cbfe-66d2cf078ffe"
      },
      "execution_count": 49,
      "outputs": [
        {
          "output_type": "execute_result",
          "data": {
            "text/plain": [
              "{'rawnek': 'med', 'hassna': 'anglais', 'maggi': 'architecture'}"
            ]
          },
          "metadata": {},
          "execution_count": 49
        }
      ]
    },
    {
      "cell_type": "code",
      "source": [
        "fac_names.pop('rayene')\n",
        "fac_names"
      ],
      "metadata": {
        "colab": {
          "base_uri": "https://localhost:8080/"
        },
        "id": "_lWMH3l8hnua",
        "outputId": "acb5edb2-9477-48d7-a5a1-72fd4a5c2f26"
      },
      "execution_count": 73,
      "outputs": [
        {
          "output_type": "execute_result",
          "data": {
            "text/plain": [
              "{'rawnek': 'med', 'hassna': 'anglais', 'maggi': 'architecture'}"
            ]
          },
          "metadata": {},
          "execution_count": 73
        }
      ]
    },
    {
      "cell_type": "code",
      "source": [
        "item =fac_names.popitem()\n",
        "item"
      ],
      "metadata": {
        "colab": {
          "base_uri": "https://localhost:8080/"
        },
        "id": "1r401p7vhxTE",
        "outputId": "71c01eb7-854f-4cba-b953-51732e3b984a"
      },
      "execution_count": 74,
      "outputs": [
        {
          "output_type": "execute_result",
          "data": {
            "text/plain": [
              "('maggi', 'architecture')"
            ]
          },
          "metadata": {},
          "execution_count": 74
        }
      ]
    },
    {
      "cell_type": "code",
      "source": [
        "fac_names.get('maggi')"
      ],
      "metadata": {
        "colab": {
          "base_uri": "https://localhost:8080/",
          "height": 36
        },
        "id": "Jf5fLNdUVhSe",
        "outputId": "7d51d97d-c18f-412b-ec6a-19c962b38241"
      },
      "execution_count": 50,
      "outputs": [
        {
          "output_type": "execute_result",
          "data": {
            "text/plain": [
              "'architecture'"
            ],
            "application/vnd.google.colaboratory.intrinsic+json": {
              "type": "string"
            }
          },
          "metadata": {},
          "execution_count": 50
        }
      ]
    },
    {
      "cell_type": "code",
      "source": [
        "fac_names.keys()"
      ],
      "metadata": {
        "colab": {
          "base_uri": "https://localhost:8080/"
        },
        "id": "m1nxQrzJWBNe",
        "outputId": "dcbe31a6-7dba-4f36-dc3a-870734991b97"
      },
      "execution_count": 51,
      "outputs": [
        {
          "output_type": "execute_result",
          "data": {
            "text/plain": [
              "dict_keys(['rawnek', 'hassna', 'maggi'])"
            ]
          },
          "metadata": {},
          "execution_count": 51
        }
      ]
    },
    {
      "cell_type": "code",
      "source": [
        "fac_names.values()"
      ],
      "metadata": {
        "colab": {
          "base_uri": "https://localhost:8080/"
        },
        "id": "NrVuDB76WGLF",
        "outputId": "22955bee-2b49-42c6-f357-0828db027834"
      },
      "execution_count": 52,
      "outputs": [
        {
          "output_type": "execute_result",
          "data": {
            "text/plain": [
              "dict_values(['med', 'anglais', 'architecture'])"
            ]
          },
          "metadata": {},
          "execution_count": 52
        }
      ]
    },
    {
      "cell_type": "code",
      "source": [
        "#vérifier la présence d'une clé dans un dictionnaire\n",
        "print('rawnek' in fac_names)"
      ],
      "metadata": {
        "colab": {
          "base_uri": "https://localhost:8080/"
        },
        "id": "MJiFq1SRWKEv",
        "outputId": "0de20927-db4f-4cec-bddc-e34c08aeb3cd"
      },
      "execution_count": 78,
      "outputs": [
        {
          "output_type": "stream",
          "name": "stdout",
          "text": [
            "True\n"
          ]
        }
      ]
    },
    {
      "cell_type": "code",
      "source": [
        "#itérer dans un dict\n",
        "for key in fac_names:\n",
        "  print(key)"
      ],
      "metadata": {
        "colab": {
          "base_uri": "https://localhost:8080/"
        },
        "id": "vjPTRHygi_SZ",
        "outputId": "0eb3a2ff-cebf-45c3-fa43-c18e0dddc90d"
      },
      "execution_count": 79,
      "outputs": [
        {
          "output_type": "stream",
          "name": "stdout",
          "text": [
            "rawnek\n",
            "hassna\n"
          ]
        }
      ]
    },
    {
      "cell_type": "code",
      "source": [
        "for key in fac_names :\n",
        "   print(key , fac_names[key])"
      ],
      "metadata": {
        "colab": {
          "base_uri": "https://localhost:8080/"
        },
        "id": "52QBEqdkjXrE",
        "outputId": "baaf194f-5ea2-4f3e-dcdf-6f776257f477"
      },
      "execution_count": 80,
      "outputs": [
        {
          "output_type": "stream",
          "name": "stdout",
          "text": [
            "rawnek med\n",
            "hassna anglais\n"
          ]
        }
      ]
    },
    {
      "cell_type": "code",
      "source": [
        "for key in fac_names.keys():\n",
        "  print(key)"
      ],
      "metadata": {
        "colab": {
          "base_uri": "https://localhost:8080/"
        },
        "id": "3WAKSsBTmT6I",
        "outputId": "52ca4983-d168-408c-9722-df587ebc0882"
      },
      "execution_count": 82,
      "outputs": [
        {
          "output_type": "stream",
          "name": "stdout",
          "text": [
            "rawnek\n",
            "hassna\n"
          ]
        }
      ]
    },
    {
      "cell_type": "code",
      "source": [
        "keys = fac_names.keys()\n",
        "keys"
      ],
      "metadata": {
        "colab": {
          "base_uri": "https://localhost:8080/"
        },
        "id": "yA-i_ljrmpIt",
        "outputId": "9d5d72df-a777-47d9-f097-71494ccfa148"
      },
      "execution_count": 83,
      "outputs": [
        {
          "output_type": "execute_result",
          "data": {
            "text/plain": [
              "dict_keys(['rawnek', 'hassna'])"
            ]
          },
          "metadata": {},
          "execution_count": 83
        }
      ]
    },
    {
      "cell_type": "code",
      "source": [
        "for values in fac_names.values() :\n",
        "  print(values)"
      ],
      "metadata": {
        "colab": {
          "base_uri": "https://localhost:8080/"
        },
        "id": "E4StMwvbm4Qz",
        "outputId": "3309babd-eae6-4d7a-dee1-c7a9a60a34fb"
      },
      "execution_count": 85,
      "outputs": [
        {
          "output_type": "stream",
          "name": "stdout",
          "text": [
            "med\n",
            "anglais\n"
          ]
        }
      ]
    },
    {
      "cell_type": "code",
      "source": [
        "for keys , values in fac_names.items() :\n",
        "  print(keys , values)"
      ],
      "metadata": {
        "colab": {
          "base_uri": "https://localhost:8080/"
        },
        "id": "147GIWx1nFln",
        "outputId": "007c648b-a8e1-4244-fc9d-1a89a24c230f"
      },
      "execution_count": 87,
      "outputs": [
        {
          "output_type": "stream",
          "name": "stdout",
          "text": [
            "rawnek med\n",
            "hassna anglais\n"
          ]
        }
      ]
    },
    {
      "cell_type": "code",
      "source": [
        "#we can assaign two values to one key\n",
        "names = {'rayene' : ['ray' , 'rayoun'],\n",
        "         'mouh' : 'lilich'}\n",
        "print(names)"
      ],
      "metadata": {
        "colab": {
          "base_uri": "https://localhost:8080/"
        },
        "id": "Qp5kbi4unYfP",
        "outputId": "a0ad893f-9381-466a-d06c-284cab2c1083"
      },
      "execution_count": 88,
      "outputs": [
        {
          "output_type": "stream",
          "name": "stdout",
          "text": [
            "{'rayene': ['ray', 'rayoun'], 'mouh': 'lilich'}\n"
          ]
        }
      ]
    },
    {
      "cell_type": "code",
      "source": [
        "print(names['rayene'][0])"
      ],
      "metadata": {
        "colab": {
          "base_uri": "https://localhost:8080/"
        },
        "id": "ghlnJehJq3Xw",
        "outputId": "60664cca-0841-48fb-a40e-54e3dd9b5453"
      },
      "execution_count": 89,
      "outputs": [
        {
          "output_type": "stream",
          "name": "stdout",
          "text": [
            "ray\n"
          ]
        }
      ]
    },
    {
      "cell_type": "code",
      "source": [
        "names['rayene'][0] = 'rainbow'\n",
        "names"
      ],
      "metadata": {
        "colab": {
          "base_uri": "https://localhost:8080/"
        },
        "id": "IbtCSRlBrXUz",
        "outputId": "1a2b6a9e-8506-4d18-e24f-ec3007b6b199"
      },
      "execution_count": 94,
      "outputs": [
        {
          "output_type": "execute_result",
          "data": {
            "text/plain": [
              "{'rayene': ['rainbow', 'rayoun'], 'mouh': 'lilich'}"
            ]
          },
          "metadata": {},
          "execution_count": 94
        }
      ]
    },
    {
      "cell_type": "markdown",
      "source": [
        "# **if else condition**"
      ],
      "metadata": {
        "id": "a0o2h2Sk1MTz"
      }
    },
    {
      "cell_type": "code",
      "source": [
        "gpa = 3.3\n",
        "if gpa > 3 :\n",
        "  print(\"accepted\")"
      ],
      "metadata": {
        "colab": {
          "base_uri": "https://localhost:8080/"
        },
        "id": "cxYP97YPr1Z4",
        "outputId": "e64569fd-3e3f-4980-a7a8-a983dac1ef30"
      },
      "execution_count": 95,
      "outputs": [
        {
          "output_type": "stream",
          "name": "stdout",
          "text": [
            "accepted\n"
          ]
        }
      ]
    },
    {
      "cell_type": "code",
      "source": [
        "gpa = 2.3\n",
        "if gpa > 3 :\n",
        "  print(\"accepted\")\n",
        "else:\n",
        "  print(\"not accepted\")"
      ],
      "metadata": {
        "colab": {
          "base_uri": "https://localhost:8080/"
        },
        "id": "MdOKwfgY1ezG",
        "outputId": "a1e07a67-6c39-458a-9d9c-52d85859a188"
      },
      "execution_count": 97,
      "outputs": [
        {
          "output_type": "stream",
          "name": "stdout",
          "text": [
            "not accepted\n"
          ]
        }
      ]
    },
    {
      "cell_type": "code",
      "source": [
        "gpa = 2.3\n",
        "\n",
        "if gpa > 5 :\n",
        "  print(\"accepted\")\n",
        "elif gpa >=  3 :\n",
        "  print('passed')\n",
        "else:\n",
        "  print(\"not accepted\")"
      ],
      "metadata": {
        "colab": {
          "base_uri": "https://localhost:8080/"
        },
        "id": "6YIbx3XH1qz5",
        "outputId": "b63d6980-3c0d-4624-bae6-190eea1fdf90"
      },
      "execution_count": 103,
      "outputs": [
        {
          "output_type": "stream",
          "name": "stdout",
          "text": [
            "not accepted\n"
          ]
        }
      ]
    },
    {
      "cell_type": "code",
      "source": [
        "gpa = 3.5\n",
        "if gpa >= 3.6 and gpa <=4 :\n",
        "  print(\"class a\")\n",
        "elif gpa == 3.4 or gpa >= 3.5 :\n",
        "  print('class b ')\n",
        "elif not(gpa >= 3):\n",
        "  print('class c')\n",
        "else:\n",
        "  print(\"class d\")"
      ],
      "metadata": {
        "colab": {
          "base_uri": "https://localhost:8080/"
        },
        "id": "kTn1WXw22WB8",
        "outputId": "27bb7303-5b95-45bc-b867-dcc1eec98ec2"
      },
      "execution_count": 106,
      "outputs": [
        {
          "output_type": "stream",
          "name": "stdout",
          "text": [
            "class b \n"
          ]
        }
      ]
    },
    {
      "cell_type": "markdown",
      "source": [
        "# **for loop**"
      ],
      "metadata": {
        "id": "VrqUIkW-AOdv"
      }
    },
    {
      "cell_type": "code",
      "source": [
        "# la valeur 0 est affectée à x, puis 1 et ainsi de suite (x=0 , x=1 ,...)\n",
        "for x in range(0,10):\n",
        "  print(x)"
      ],
      "metadata": {
        "colab": {
          "base_uri": "https://localhost:8080/"
        },
        "id": "qcY7dF4E_pGj",
        "outputId": "66c6df63-272d-43a7-a1a2-e6cb5a552806"
      },
      "execution_count": 107,
      "outputs": [
        {
          "output_type": "stream",
          "name": "stdout",
          "text": [
            "0\n",
            "1\n",
            "2\n",
            "3\n",
            "4\n",
            "5\n",
            "6\n",
            "7\n",
            "8\n",
            "9\n"
          ]
        }
      ]
    },
    {
      "cell_type": "code",
      "source": [
        "names=['rayene', 'hassna' , 'rawnek']\n",
        "for name in names:\n",
        "  print(name)"
      ],
      "metadata": {
        "colab": {
          "base_uri": "https://localhost:8080/"
        },
        "id": "_vISSTcgAtZs",
        "outputId": "f8fd4074-81bc-4960-db67-12a92afbb538"
      },
      "execution_count": 108,
      "outputs": [
        {
          "output_type": "stream",
          "name": "stdout",
          "text": [
            "rayene\n",
            "hassna\n",
            "rawnek\n"
          ]
        }
      ]
    },
    {
      "cell_type": "code",
      "source": [
        "for x in [1,2,3]:\n",
        "  print(x)"
      ],
      "metadata": {
        "colab": {
          "base_uri": "https://localhost:8080/"
        },
        "id": "JxPfe7BTA8O-",
        "outputId": "13d7038a-702d-4c5c-9aff-27c38a41da8e"
      },
      "execution_count": 109,
      "outputs": [
        {
          "output_type": "stream",
          "name": "stdout",
          "text": [
            "1\n",
            "2\n",
            "3\n"
          ]
        }
      ]
    },
    {
      "cell_type": "code",
      "source": [
        "machin=['ff' ,'mm', 'gg']\n",
        "data = [names , machin]\n",
        "data"
      ],
      "metadata": {
        "colab": {
          "base_uri": "https://localhost:8080/"
        },
        "id": "jvGzKyArP20e",
        "outputId": "5ddaca7c-3c94-4cff-8883-9634aff33084"
      },
      "execution_count": 110,
      "outputs": [
        {
          "output_type": "execute_result",
          "data": {
            "text/plain": [
              "[['rayene', 'hassna', 'rawnek'], ['ff', 'mm', 'gg']]"
            ]
          },
          "metadata": {},
          "execution_count": 110
        }
      ]
    },
    {
      "cell_type": "code",
      "source": [
        "for x in range(0 , len(data)):     #len(data)=2\n",
        "    for y in range(0, len(data[x])):    #len(data[X][y]=3) pour chacune des sous listes\n",
        "       print(data[x][y])\n",
        "    print('\\n')"
      ],
      "metadata": {
        "colab": {
          "base_uri": "https://localhost:8080/"
        },
        "id": "F7-1VND9TmCD",
        "outputId": "a128cafd-1acf-433a-fede-8a269fe95fe3"
      },
      "execution_count": 115,
      "outputs": [
        {
          "output_type": "stream",
          "name": "stdout",
          "text": [
            "rayene\n",
            "hassna\n",
            "rawnek\n",
            "\n",
            "\n",
            "ff\n",
            "mm\n",
            "gg\n",
            "\n",
            "\n"
          ]
        }
      ]
    },
    {
      "cell_type": "code",
      "source": [
        "for row in range(1,10):\n",
        "  for column in range(1,10):\n",
        "     num =row*column\n",
        "     if num <10 :\n",
        "        print(end=\" \")   #at the end of the ligne print un vide where num<10\n",
        "     print(num , end=\" \")   #print the number and \"un vide\" après chaque nombre\n",
        "  print(end='\\n')  #after each row retour à la ligne since this print is in the same level with the first for of rows\n"
      ],
      "metadata": {
        "colab": {
          "base_uri": "https://localhost:8080/"
        },
        "id": "FhYb-u4AerL8",
        "outputId": "b3c05806-f7bd-4560-a34e-254d12ac6a31"
      },
      "execution_count": 124,
      "outputs": [
        {
          "output_type": "stream",
          "name": "stdout",
          "text": [
            " 1  2  3  4  5  6  7  8  9 \n",
            " 2  4  6  8 10 12 14 16 18 \n",
            " 3  6  9 12 15 18 21 24 27 \n",
            " 4  8 12 16 20 24 28 32 36 \n",
            " 5 10 15 20 25 30 35 40 45 \n",
            " 6 12 18 24 30 36 42 48 54 \n",
            " 7 14 21 28 35 42 49 56 63 \n",
            " 8 16 24 32 40 48 56 64 72 \n",
            " 9 18 27 36 45 54 63 72 81 \n"
          ]
        }
      ]
    },
    {
      "cell_type": "markdown",
      "source": [
        "**break loop**"
      ],
      "metadata": {
        "id": "26ZOR_3DNS4U"
      }
    },
    {
      "cell_type": "code",
      "source": [
        "#Stop the loop if i is 3\n",
        "i = 1\n",
        "while i < 6:\n",
        "  if i == 3:\n",
        "    break\n",
        "  i += 1\n",
        "  print(i)"
      ],
      "metadata": {
        "colab": {
          "base_uri": "https://localhost:8080/"
        },
        "id": "1rsAkEsRNSDi",
        "outputId": "6783d59c-9f5a-49e5-e8cb-c86a5d861205"
      },
      "execution_count": 2,
      "outputs": [
        {
          "output_type": "stream",
          "name": "stdout",
          "text": [
            "2\n",
            "3\n"
          ]
        }
      ]
    },
    {
      "cell_type": "markdown",
      "source": [
        "**continue loop**"
      ],
      "metadata": {
        "id": "U7O2VmgMNXmz"
      }
    },
    {
      "cell_type": "code",
      "source": [
        "#In the loop, when i is 3, jump directly to the next iteration.\n",
        "i = 0\n",
        "while i < 6:\n",
        "  i += 1\n",
        "  if i == 3:\n",
        "    continue\n",
        "  print(i)"
      ],
      "metadata": {
        "colab": {
          "base_uri": "https://localhost:8080/"
        },
        "id": "Ezrl9S9RNRmT",
        "outputId": "0961a065-7336-4dc8-ea27-2c9e73400186"
      },
      "execution_count": 3,
      "outputs": [
        {
          "output_type": "stream",
          "name": "stdout",
          "text": [
            "1\n",
            "2\n",
            "4\n",
            "5\n",
            "6\n"
          ]
        }
      ]
    },
    {
      "cell_type": "markdown",
      "source": [
        "**While loop**"
      ],
      "metadata": {
        "id": "TdPfbBB2OyUo"
      }
    },
    {
      "cell_type": "code",
      "source": [
        "i = 1\n",
        "while i < 6:\n",
        "  print(i)\n",
        "  i += 1\n",
        "else:\n",
        "  print(\"i is no longer less than 6\")"
      ],
      "metadata": {
        "colab": {
          "base_uri": "https://localhost:8080/"
        },
        "id": "phRVb8WwO1hm",
        "outputId": "d25ea4ef-4564-44c3-e8d3-e7e6492c1d1c"
      },
      "execution_count": 4,
      "outputs": [
        {
          "output_type": "stream",
          "name": "stdout",
          "text": [
            "1\n",
            "2\n",
            "3\n",
            "4\n",
            "5\n",
            "i is no longer less than 6\n"
          ]
        }
      ]
    },
    {
      "cell_type": "markdown",
      "source": [
        "**la compréhension des listes:**\n",
        "\n",
        "Les compréhensions de liste rendent le code plus lisible et compréhensible en\n",
        "évitant l'utilisation de boucles for et if imbriquées.\n",
        "\n",
        "Les compréhensions de liste sont généralement plus rapides que les boucles for traditionnelles"
      ],
      "metadata": {
        "id": "zFnTVFEFoNC_"
      }
    },
    {
      "cell_type": "code",
      "source": [
        "#[expression FOR item IN iterable IF condition]\n",
        "nombres = [1, 2, 3, 4, 5]\n",
        "carres = [x**2 for x in nombres]     # Résultat :   1**2=1 <- x=1   et ainsi de suite...\n",
        "print(carres)"
      ],
      "metadata": {
        "colab": {
          "base_uri": "https://localhost:8080/"
        },
        "id": "vSPTSKLQoQsI",
        "outputId": "ea1bbbad-9c04-4903-a0e9-1d711b025eb5"
      },
      "execution_count": 125,
      "outputs": [
        {
          "output_type": "stream",
          "name": "stdout",
          "text": [
            "[1, 4, 9, 16, 25]\n"
          ]
        }
      ]
    },
    {
      "cell_type": "code",
      "source": [
        "nombres = [1, 2, 3, 4, 5]\n",
        "carres_pairs = [x**2 for x in nombres if x % 2 == 0]\n",
        "print(carres_pairs)  # Résultat : [4, 16]"
      ],
      "metadata": {
        "id": "6_opbeCXqLla"
      },
      "execution_count": null,
      "outputs": []
    },
    {
      "cell_type": "markdown",
      "source": [
        "**Compréhension des dictionnaires:**\n",
        "\n",
        "Comme pour les listes, il est aussi possible de passer par une compréhension de dictionnaire"
      ],
      "metadata": {
        "id": "q82W3K4gre_I"
      }
    },
    {
      "cell_type": "code",
      "source": [
        "d = {\n",
        "    'spam': 'ham',\n",
        "    'knights': 'lumberjack',\n",
        "    'bacon': 'sausage'\n",
        "}\n",
        "\n",
        "d_with_s = {k:v + 's' for k, v in d.items()}  # Ajoute un 's' à toutes les valeurs\n",
        "print(d_with_s)"
      ],
      "metadata": {
        "colab": {
          "base_uri": "https://localhost:8080/"
        },
        "id": "sQHnHRovrVx-",
        "outputId": "9c1c2e71-d5d4-4e74-e4fd-a8b89dff1510"
      },
      "execution_count": 128,
      "outputs": [
        {
          "output_type": "stream",
          "name": "stdout",
          "text": [
            "{'spam': 'hams', 'knights': 'lumberjacks', 'bacon': 'sausages'}\n"
          ]
        }
      ]
    },
    {
      "cell_type": "markdown",
      "source": [
        "# **function in python**"
      ],
      "metadata": {
        "id": "B1Y2CW7AlH59"
      }
    },
    {
      "cell_type": "code",
      "source": [
        "def add(x,y):\n",
        "  return x+y"
      ],
      "metadata": {
        "id": "fpa5Q4WEhp9p"
      },
      "execution_count": 129,
      "outputs": []
    },
    {
      "cell_type": "code",
      "source": [
        "add(3,2)"
      ],
      "metadata": {
        "colab": {
          "base_uri": "https://localhost:8080/"
        },
        "id": "hhsOtJkFshwb",
        "outputId": "e827c26a-3db6-41fc-c288-8f1a1f9b513a"
      },
      "execution_count": 130,
      "outputs": [
        {
          "output_type": "execute_result",
          "data": {
            "text/plain": [
              "5"
            ]
          },
          "metadata": {},
          "execution_count": 130
        }
      ]
    },
    {
      "cell_type": "code",
      "source": [
        "list=[1,2,3]\n",
        "def modify(l):\n",
        "  return l.append(4)"
      ],
      "metadata": {
        "id": "OzjGgqsaskWM"
      },
      "execution_count": 152,
      "outputs": []
    },
    {
      "cell_type": "code",
      "source": [
        "modify(list)"
      ],
      "metadata": {
        "id": "TXyjCKcetW-C"
      },
      "execution_count": 153,
      "outputs": []
    },
    {
      "cell_type": "code",
      "source": [
        "list"
      ],
      "metadata": {
        "colab": {
          "base_uri": "https://localhost:8080/"
        },
        "id": "JfuelhPEtatI",
        "outputId": "2be33543-2fb3-474d-cd37-634396f09714"
      },
      "execution_count": 154,
      "outputs": [
        {
          "output_type": "execute_result",
          "data": {
            "text/plain": [
              "[1, 2, 3, 4, 4]"
            ]
          },
          "metadata": {},
          "execution_count": 154
        }
      ]
    },
    {
      "cell_type": "code",
      "source": [
        "list=[1,2,3]\n",
        "def override(list):\n",
        "  print(list)\n",
        "  list = [5,6,7,8]\n",
        "  return list\n",
        "\n",
        "print(override(list))\n",
        "print(list)      # since list is a global variable"
      ],
      "metadata": {
        "colab": {
          "base_uri": "https://localhost:8080/"
        },
        "id": "KlSSxYb9tc26",
        "outputId": "2ca30abb-787a-4bc3-aa6b-dbc22bfd1aa1"
      },
      "execution_count": 3,
      "outputs": [
        {
          "output_type": "stream",
          "name": "stdout",
          "text": [
            "[1, 2, 3]\n",
            "[5, 6, 7, 8]\n",
            "[1, 2, 3]\n"
          ]
        }
      ]
    },
    {
      "cell_type": "code",
      "source": [
        "x = \"awesome\"\n",
        "\n",
        "def myfunc():\n",
        "  x = \"fantastic\"\n",
        "  print(\"Python is \" + x)\n",
        "\n",
        "myfunc()\n",
        "\n",
        "print(\"Python is \" + x)"
      ],
      "metadata": {
        "colab": {
          "base_uri": "https://localhost:8080/"
        },
        "id": "GMxX4VhQuHqV",
        "outputId": "18b108cf-9890-4a09-9b6d-b4ab808443f1"
      },
      "execution_count": 4,
      "outputs": [
        {
          "output_type": "stream",
          "name": "stdout",
          "text": [
            "Python is fantastic\n",
            "Python is awesome\n"
          ]
        }
      ]
    },
    {
      "cell_type": "code",
      "source": [
        "\n",
        "x = \"awesome\"\n",
        "def myfunc():\n",
        "  global x        #To change the value of a global variable inside a function, refer to the variable by using the global keyword\n",
        "  x = \"fantastic\"\n",
        "\n",
        "myfunc()\n",
        "\n",
        "print(\"Python is \" + x)"
      ],
      "metadata": {
        "colab": {
          "base_uri": "https://localhost:8080/"
        },
        "id": "zLVJoNTfy4tJ",
        "outputId": "fb53b7e9-9a95-4b18-bc8a-073772a5494d"
      },
      "execution_count": 23,
      "outputs": [
        {
          "output_type": "stream",
          "name": "stdout",
          "text": [
            "Python is fantastic\n"
          ]
        }
      ]
    },
    {
      "cell_type": "code",
      "source": [
        "#functions with two parameters\n",
        "\n",
        "def getData(name,age):\n",
        "  print('Name is: ' ,name)\n",
        "  print('Age is: ', age)\n",
        "\n",
        "getData('rayene', 25)\n"
      ],
      "metadata": {
        "colab": {
          "base_uri": "https://localhost:8080/"
        },
        "id": "eGwC-LcJ07t8",
        "outputId": "fa9e8857-ff77-4ee7-8809-92436e43e419"
      },
      "execution_count": 6,
      "outputs": [
        {
          "output_type": "stream",
          "name": "stdout",
          "text": [
            "Name is:  rayene\n",
            "Age is:  25\n"
          ]
        }
      ]
    },
    {
      "cell_type": "code",
      "source": [
        "#when one parameter has a default value\n",
        "def getData(name=None,age=25):\n",
        "  print('Name is: ',name)\n",
        "  print('age is: ',age)\n",
        "\n",
        "getData('Rayene')"
      ],
      "metadata": {
        "colab": {
          "base_uri": "https://localhost:8080/"
        },
        "id": "9USxgID31ur3",
        "outputId": "6c759567-e2f3-4576-9356-b56a2273a47f"
      },
      "execution_count": 12,
      "outputs": [
        {
          "output_type": "stream",
          "name": "stdout",
          "text": [
            "Name is:  Rayene\n",
            "age is:  25\n"
          ]
        }
      ]
    },
    {
      "cell_type": "code",
      "source": [
        "#function with multiple parameters\n",
        "\n",
        "def Data(x , *vars):\n",
        "  print(x)\n",
        "  for var in vars:\n",
        "    print(var)"
      ],
      "metadata": {
        "id": "IDPeGisJ24xK"
      },
      "execution_count": 14,
      "outputs": []
    },
    {
      "cell_type": "code",
      "source": [
        "Data(1)"
      ],
      "metadata": {
        "colab": {
          "base_uri": "https://localhost:8080/"
        },
        "id": "aCLZLCcY4P8Y",
        "outputId": "ef27215b-ef69-4166-8175-8817b9c7f556"
      },
      "execution_count": 15,
      "outputs": [
        {
          "output_type": "stream",
          "name": "stdout",
          "text": [
            "1\n"
          ]
        }
      ]
    },
    {
      "cell_type": "code",
      "source": [
        "Data(1,2)"
      ],
      "metadata": {
        "colab": {
          "base_uri": "https://localhost:8080/"
        },
        "id": "NIYILEb34VFt",
        "outputId": "cbbeb4e8-cbd4-481c-d2ee-4246d8f28677"
      },
      "execution_count": 16,
      "outputs": [
        {
          "output_type": "stream",
          "name": "stdout",
          "text": [
            "1\n",
            "2\n"
          ]
        }
      ]
    },
    {
      "cell_type": "code",
      "source": [
        "Data(1,2,3,4,5,6)"
      ],
      "metadata": {
        "colab": {
          "base_uri": "https://localhost:8080/"
        },
        "id": "kgLQq3z34aXt",
        "outputId": "9ea42cdb-918d-452e-a816-9032d831584c"
      },
      "execution_count": 18,
      "outputs": [
        {
          "output_type": "stream",
          "name": "stdout",
          "text": [
            "1\n",
            "2\n",
            "3\n",
            "4\n",
            "5\n",
            "6\n"
          ]
        }
      ]
    },
    {
      "cell_type": "markdown",
      "source": [
        "**lambda**     [**lambda**  inputs : expression]\n",
        "\n",
        "\n",
        "A lambda function is a small anonymous function.\n",
        "\n",
        "A lambda function can take any number of arguments, but can only have one expression."
      ],
      "metadata": {
        "id": "T51q2onD-Uxz"
      }
    },
    {
      "cell_type": "code",
      "source": [
        "multiply = lambda x,y : x*y\n",
        "multiply(2,3)"
      ],
      "metadata": {
        "colab": {
          "base_uri": "https://localhost:8080/"
        },
        "id": "uRMhbXI24c1m",
        "outputId": "2c8d9847-8a1b-40a1-fc81-3386c782cb6d"
      },
      "execution_count": 22,
      "outputs": [
        {
          "output_type": "execute_result",
          "data": {
            "text/plain": [
              "6"
            ]
          },
          "metadata": {},
          "execution_count": 22
        }
      ]
    },
    {
      "cell_type": "code",
      "source": [
        "x = lambda a : a + 10\n",
        "print(x(5))"
      ],
      "metadata": {
        "colab": {
          "base_uri": "https://localhost:8080/"
        },
        "id": "kDz0N6yQ-p4c",
        "outputId": "39f0f513-22b2-44bb-b2b7-158ddfce07ff"
      },
      "execution_count": 24,
      "outputs": [
        {
          "output_type": "stream",
          "name": "stdout",
          "text": [
            "15\n"
          ]
        }
      ]
    },
    {
      "cell_type": "code",
      "source": [
        "def myfunc(n):\n",
        "  return lambda a : a * n\n",
        "\n",
        "mydoubler = myfunc(2)\n",
        "\n",
        "print(mydoubler(11))"
      ],
      "metadata": {
        "colab": {
          "base_uri": "https://localhost:8080/"
        },
        "id": "KXbAD7NpAuzo",
        "outputId": "ded63f70-96d3-4945-a8dd-a6486cf3237a"
      },
      "execution_count": 27,
      "outputs": [
        {
          "output_type": "stream",
          "name": "stdout",
          "text": [
            "22\n"
          ]
        }
      ]
    },
    {
      "cell_type": "markdown",
      "source": [
        "# **Class and objects**"
      ],
      "metadata": {
        "id": "eP9pgzMPBhm0"
      }
    },
    {
      "cell_type": "code",
      "source": [
        "class Employee:\n",
        "\n",
        "  #attributes\n",
        "  empCount = 0\n",
        "\n",
        "  #methods\n",
        "  def __init__(self , name, salary):       #constructeur\n",
        "     self.name = name\n",
        "     self.salary = salary\n",
        "\n",
        "     Employee.empCount +=1\n",
        "\n",
        "  def displayCount(self):\n",
        "    print(Employee.empCount)\n",
        "\n",
        "  def displayEmployee(self):\n",
        "      print('Name: ' , self.name , 'Salary: ', self.salary)\n",
        "\n",
        "emp1 = Employee('rayene' , 2500)"
      ],
      "metadata": {
        "id": "ofOkSSqpA3CR"
      },
      "execution_count": 49,
      "outputs": []
    },
    {
      "cell_type": "code",
      "source": [
        "print(emp1.empCount)\n",
        "print(emp1.name)\n",
        "print(emp1.salary)"
      ],
      "metadata": {
        "colab": {
          "base_uri": "https://localhost:8080/"
        },
        "id": "MLhfBL3GHEIi",
        "outputId": "82eb0a52-6201-4786-b288-3f83e2af8028"
      },
      "execution_count": 50,
      "outputs": [
        {
          "output_type": "stream",
          "name": "stdout",
          "text": [
            "1\n",
            "rayene\n",
            "2500\n"
          ]
        }
      ]
    },
    {
      "cell_type": "code",
      "source": [
        "emp1.displayEmployee()"
      ],
      "metadata": {
        "colab": {
          "base_uri": "https://localhost:8080/"
        },
        "id": "Q6Vfx4SIHFte",
        "outputId": "a5d8bf11-1ae6-439e-9820-520ba366dd2c"
      },
      "execution_count": 51,
      "outputs": [
        {
          "output_type": "stream",
          "name": "stdout",
          "text": [
            "Name:  rayene Salary:  2500\n"
          ]
        }
      ]
    },
    {
      "cell_type": "code",
      "source": [
        "emp1.displayCount()"
      ],
      "metadata": {
        "colab": {
          "base_uri": "https://localhost:8080/"
        },
        "id": "aG0HE_JBHVwR",
        "outputId": "d9a9c97b-33fa-4e2a-e936-bdd7bf23f0b8"
      },
      "execution_count": 52,
      "outputs": [
        {
          "output_type": "stream",
          "name": "stdout",
          "text": [
            "1\n"
          ]
        }
      ]
    },
    {
      "cell_type": "code",
      "source": [
        "emp2 = Employee('rawnek' , 3500)"
      ],
      "metadata": {
        "id": "tpldiRz2I5yB"
      },
      "execution_count": 53,
      "outputs": []
    },
    {
      "cell_type": "code",
      "source": [
        "emp2.displayCount()"
      ],
      "metadata": {
        "colab": {
          "base_uri": "https://localhost:8080/"
        },
        "id": "4tQENnfPI-yZ",
        "outputId": "612f89bc-a986-4b59-b8ce-d3adfe562861"
      },
      "execution_count": 54,
      "outputs": [
        {
          "output_type": "stream",
          "name": "stdout",
          "text": [
            "2\n"
          ]
        }
      ]
    },
    {
      "cell_type": "code",
      "source": [
        "emp1.age = 25"
      ],
      "metadata": {
        "id": "ZfycSuAGH02B"
      },
      "execution_count": 55,
      "outputs": []
    },
    {
      "cell_type": "code",
      "source": [
        "emp1.age"
      ],
      "metadata": {
        "colab": {
          "base_uri": "https://localhost:8080/"
        },
        "id": "ik-OM-qXJdGd",
        "outputId": "f58fe08f-56a8-4cdb-b54e-89a89d3efaf0"
      },
      "execution_count": 56,
      "outputs": [
        {
          "output_type": "execute_result",
          "data": {
            "text/plain": [
              "25"
            ]
          },
          "metadata": {},
          "execution_count": 56
        }
      ]
    },
    {
      "cell_type": "code",
      "source": [
        "emp2.age    #emp2 has no attribute age"
      ],
      "metadata": {
        "colab": {
          "base_uri": "https://localhost:8080/",
          "height": 165
        },
        "id": "RYm9CGwzJgHX",
        "outputId": "a5c03c3e-a3d0-4cd5-a0d6-d3bc6d04ec51"
      },
      "execution_count": 57,
      "outputs": [
        {
          "output_type": "error",
          "ename": "AttributeError",
          "evalue": "ignored",
          "traceback": [
            "\u001b[0;31m---------------------------------------------------------------------------\u001b[0m",
            "\u001b[0;31mAttributeError\u001b[0m                            Traceback (most recent call last)",
            "\u001b[0;32m<ipython-input-57-42d1695f77a9>\u001b[0m in \u001b[0;36m<cell line: 1>\u001b[0;34m()\u001b[0m\n\u001b[0;32m----> 1\u001b[0;31m \u001b[0memp2\u001b[0m\u001b[0;34m.\u001b[0m\u001b[0mage\u001b[0m\u001b[0;34m\u001b[0m\u001b[0;34m\u001b[0m\u001b[0m\n\u001b[0m",
            "\u001b[0;31mAttributeError\u001b[0m: 'Employee' object has no attribute 'age'"
          ]
        }
      ]
    },
    {
      "cell_type": "code",
      "source": [
        "del emp1.age"
      ],
      "metadata": {
        "id": "H2-EHPMDJlj5"
      },
      "execution_count": 58,
      "outputs": []
    },
    {
      "cell_type": "code",
      "source": [
        "emp1.age  # on a écrasé la variable elle va pas etre affichée"
      ],
      "metadata": {
        "colab": {
          "base_uri": "https://localhost:8080/",
          "height": 165
        },
        "id": "3NRuzYxlMXY1",
        "outputId": "1a5f56d5-3294-4266-e530-33841740f91f"
      },
      "execution_count": 59,
      "outputs": [
        {
          "output_type": "error",
          "ename": "AttributeError",
          "evalue": "ignored",
          "traceback": [
            "\u001b[0;31m---------------------------------------------------------------------------\u001b[0m",
            "\u001b[0;31mAttributeError\u001b[0m                            Traceback (most recent call last)",
            "\u001b[0;32m<ipython-input-59-0d569e33fad3>\u001b[0m in \u001b[0;36m<cell line: 1>\u001b[0;34m()\u001b[0m\n\u001b[0;32m----> 1\u001b[0;31m \u001b[0memp1\u001b[0m\u001b[0;34m.\u001b[0m\u001b[0mage\u001b[0m\u001b[0;34m\u001b[0m\u001b[0;34m\u001b[0m\u001b[0m\n\u001b[0m",
            "\u001b[0;31mAttributeError\u001b[0m: 'Employee' object has no attribute 'age'"
          ]
        }
      ]
    },
    {
      "cell_type": "code",
      "source": [
        "emp2.age = 20"
      ],
      "metadata": {
        "id": "Ha9kPBDUMcBW"
      },
      "execution_count": 60,
      "outputs": []
    },
    {
      "cell_type": "code",
      "source": [
        "delattr(emp2 , 'age')"
      ],
      "metadata": {
        "id": "7hBk-xcdM166"
      },
      "execution_count": 62,
      "outputs": []
    },
    {
      "cell_type": "code",
      "source": [
        "emp2.age"
      ],
      "metadata": {
        "colab": {
          "base_uri": "https://localhost:8080/",
          "height": 313
        },
        "id": "vk5CtUTCM6al",
        "outputId": "07882ce0-6fb5-45e0-8775-bc9a3f88a7f4"
      },
      "execution_count": 64,
      "outputs": [
        {
          "output_type": "error",
          "ename": "AttributeError",
          "evalue": "ignored",
          "traceback": [
            "\u001b[0;31m---------------------------------------------------------------------------\u001b[0m",
            "\u001b[0;31mAttributeError\u001b[0m                            Traceback (most recent call last)",
            "\u001b[0;32m<ipython-input-63-42d1695f77a9>\u001b[0m in \u001b[0;36m<cell line: 1>\u001b[0;34m()\u001b[0m\n\u001b[0;32m----> 1\u001b[0;31m \u001b[0memp2\u001b[0m\u001b[0;34m.\u001b[0m\u001b[0mage\u001b[0m\u001b[0;34m\u001b[0m\u001b[0;34m\u001b[0m\u001b[0m\n\u001b[0m",
            "\u001b[0;31mAttributeError\u001b[0m: 'Employee' object has no attribute 'age'"
          ]
        },
        {
          "output_type": "error",
          "ename": "AttributeError",
          "evalue": "ignored",
          "traceback": [
            "\u001b[0;31m---------------------------------------------------------------------------\u001b[0m",
            "\u001b[0;31mAttributeError\u001b[0m                            Traceback (most recent call last)",
            "\u001b[0;32m<ipython-input-64-42d1695f77a9>\u001b[0m in \u001b[0;36m<cell line: 1>\u001b[0;34m()\u001b[0m\n\u001b[0;32m----> 1\u001b[0;31m \u001b[0memp2\u001b[0m\u001b[0;34m.\u001b[0m\u001b[0mage\u001b[0m\u001b[0;34m\u001b[0m\u001b[0;34m\u001b[0m\u001b[0m\n\u001b[0m",
            "\u001b[0;31mAttributeError\u001b[0m: 'Employee' object has no attribute 'age'"
          ]
        }
      ]
    },
    {
      "cell_type": "markdown",
      "source": [
        "**other stuff that is good to know i might have missed earlier**"
      ],
      "metadata": {
        "id": "yz9vI_LSXWOz"
      }
    },
    {
      "cell_type": "code",
      "source": [
        "txt ='hello world '\n",
        "txt.strip()     #Return the string without any whitespace at the beginning or the end."
      ],
      "metadata": {
        "colab": {
          "base_uri": "https://localhost:8080/",
          "height": 36
        },
        "id": "tPvOHEEgNBKC",
        "outputId": "5b19f2e0-59d9-4840-d17d-22060cdbbc3a"
      },
      "execution_count": 69,
      "outputs": [
        {
          "output_type": "execute_result",
          "data": {
            "text/plain": [
              "'hello world'"
            ],
            "application/vnd.google.colaboratory.intrinsic+json": {
              "type": "string"
            }
          },
          "metadata": {},
          "execution_count": 69
        }
      ]
    },
    {
      "cell_type": "code",
      "source": [
        "#Replace the character H with a J.\n",
        "\n",
        "txt = \"Hello World\"\n",
        "txt = txt.replace('H', 'J')"
      ],
      "metadata": {
        "id": "F5IMSxiEWrve"
      },
      "execution_count": 70,
      "outputs": []
    },
    {
      "cell_type": "code",
      "source": [
        "#Insert the correct syntax to add a placeholder for the age parameter.\n",
        "\n",
        "age = 36\n",
        "txt = \"My name is John, and I am {}\"\n",
        "print(txt.format(age))"
      ],
      "metadata": {
        "colab": {
          "base_uri": "https://localhost:8080/"
        },
        "id": "atDHTtDMXVOu",
        "outputId": "a8078d6e-6f4a-467e-cc13-0bc973aceeb4"
      },
      "execution_count": 72,
      "outputs": [
        {
          "output_type": "stream",
          "name": "stdout",
          "text": [
            "My name is John, and I am 36\n"
          ]
        }
      ]
    },
    {
      "cell_type": "code",
      "source": [
        "\"\"\"\n",
        "Almost any value is evaluated to True if it has some sort of content.\n",
        "Any string is True, except empty strings.\n",
        "Any number is True, except 0.\n",
        "Any list, tuple, set, and dictionary are True, except empty ones\n",
        "\n",
        "\"\"\"\n",
        "print(bool(\"abc\"))"
      ],
      "metadata": {
        "colab": {
          "base_uri": "https://localhost:8080/"
        },
        "id": "rPI3ROLcX70O",
        "outputId": "7c43a46a-4a7e-40d8-933a-136974edc14a"
      },
      "execution_count": 74,
      "outputs": [
        {
          "output_type": "stream",
          "name": "stdout",
          "text": [
            "True\n"
          ]
        }
      ]
    },
    {
      "cell_type": "code",
      "source": [],
      "metadata": {
        "id": "yHrMSb0MYZZN"
      },
      "execution_count": null,
      "outputs": []
    }
  ]
}